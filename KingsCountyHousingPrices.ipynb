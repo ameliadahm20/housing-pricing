{
 "cells": [
  {
   "cell_type": "markdown",
   "metadata": {},
   "source": [
    "# Kings County Housing Prices Bakeoff\n",
    "#### This notebook imports the kings county housing dataset which holds 20 different columns. With data exploration, statistical testing, and feature engineering, linear regression models were created to predict the price of a house."
   ]
  },
  {
   "cell_type": "markdown",
   "metadata": {},
   "source": [
    "## Import Packages"
   ]
  },
  {
   "cell_type": "code",
   "execution_count": 1,
   "metadata": {},
   "outputs": [],
   "source": [
    "import pandas as pd\n",
    "import numpy as np\n",
    "from statsmodels.formula.api import ols\n",
    "# data visulization\n",
    "import seaborn as sns\n",
    "import matplotlib.pyplot as plt\n",
    "%matplotlib inline\n",
    "# stats\n",
    "from scipy import stats\n",
    "# sklearn\n",
    "from sklearn.model_selection import train_test_split\n",
    "from sklearn.linear_model import LinearRegression\n",
    "from sklearn.preprocessing import StandardScaler\n",
    "from sklearn.preprocessing import MinMaxScaler\n",
    "from sklearn import metrics"
   ]
  },
  {
   "cell_type": "markdown",
   "metadata": {},
   "source": [
    "## Import and Explore Dataset"
   ]
  },
  {
   "cell_type": "code",
   "execution_count": 2,
   "metadata": {},
   "outputs": [
    {
     "data": {
      "text/plain": [
       "(17290, 20)"
      ]
     },
     "execution_count": 2,
     "metadata": {},
     "output_type": "execute_result"
    }
   ],
   "source": [
    "# Read in CSV and drop unneeded columns\n",
    "df = pd.read_csv('kc_house_data_train.csv')\n",
    "df = df.drop(columns=['Unnamed: 0', 'id'])\n",
    "\n",
    "df.shape"
   ]
  },
  {
   "cell_type": "code",
   "execution_count": 3,
   "metadata": {},
   "outputs": [],
   "source": [
    "# View all columns\n",
    "pd.set_option('display.max_columns', 100)"
   ]
  },
  {
   "cell_type": "code",
   "execution_count": 4,
   "metadata": {},
   "outputs": [
    {
     "data": {
      "text/html": [
       "<div>\n",
       "<style scoped>\n",
       "    .dataframe tbody tr th:only-of-type {\n",
       "        vertical-align: middle;\n",
       "    }\n",
       "\n",
       "    .dataframe tbody tr th {\n",
       "        vertical-align: top;\n",
       "    }\n",
       "\n",
       "    .dataframe thead th {\n",
       "        text-align: right;\n",
       "    }\n",
       "</style>\n",
       "<table border=\"1\" class=\"dataframe\">\n",
       "  <thead>\n",
       "    <tr style=\"text-align: right;\">\n",
       "      <th></th>\n",
       "      <th>date</th>\n",
       "      <th>price</th>\n",
       "      <th>bedrooms</th>\n",
       "      <th>bathrooms</th>\n",
       "      <th>sqft_living</th>\n",
       "      <th>sqft_lot</th>\n",
       "      <th>floors</th>\n",
       "      <th>waterfront</th>\n",
       "      <th>view</th>\n",
       "      <th>condition</th>\n",
       "      <th>grade</th>\n",
       "      <th>sqft_above</th>\n",
       "      <th>sqft_basement</th>\n",
       "      <th>yr_built</th>\n",
       "      <th>yr_renovated</th>\n",
       "      <th>zipcode</th>\n",
       "      <th>lat</th>\n",
       "      <th>long</th>\n",
       "      <th>sqft_living15</th>\n",
       "      <th>sqft_lot15</th>\n",
       "    </tr>\n",
       "  </thead>\n",
       "  <tbody>\n",
       "    <tr>\n",
       "      <th>0</th>\n",
       "      <td>20141006T000000</td>\n",
       "      <td>365000.0</td>\n",
       "      <td>4</td>\n",
       "      <td>2.25</td>\n",
       "      <td>2070</td>\n",
       "      <td>8893</td>\n",
       "      <td>2.0</td>\n",
       "      <td>0</td>\n",
       "      <td>0</td>\n",
       "      <td>4</td>\n",
       "      <td>8</td>\n",
       "      <td>2070</td>\n",
       "      <td>0</td>\n",
       "      <td>1986</td>\n",
       "      <td>0</td>\n",
       "      <td>98058</td>\n",
       "      <td>47.4388</td>\n",
       "      <td>-122.162</td>\n",
       "      <td>2390</td>\n",
       "      <td>7700</td>\n",
       "    </tr>\n",
       "    <tr>\n",
       "      <th>1</th>\n",
       "      <td>20140821T000000</td>\n",
       "      <td>865000.0</td>\n",
       "      <td>5</td>\n",
       "      <td>3.00</td>\n",
       "      <td>2900</td>\n",
       "      <td>6730</td>\n",
       "      <td>1.0</td>\n",
       "      <td>0</td>\n",
       "      <td>0</td>\n",
       "      <td>5</td>\n",
       "      <td>8</td>\n",
       "      <td>1830</td>\n",
       "      <td>1070</td>\n",
       "      <td>1977</td>\n",
       "      <td>0</td>\n",
       "      <td>98115</td>\n",
       "      <td>47.6784</td>\n",
       "      <td>-122.285</td>\n",
       "      <td>2370</td>\n",
       "      <td>6283</td>\n",
       "    </tr>\n",
       "    <tr>\n",
       "      <th>2</th>\n",
       "      <td>20140815T000000</td>\n",
       "      <td>1038000.0</td>\n",
       "      <td>4</td>\n",
       "      <td>2.50</td>\n",
       "      <td>3770</td>\n",
       "      <td>10893</td>\n",
       "      <td>2.0</td>\n",
       "      <td>0</td>\n",
       "      <td>2</td>\n",
       "      <td>3</td>\n",
       "      <td>11</td>\n",
       "      <td>3770</td>\n",
       "      <td>0</td>\n",
       "      <td>1997</td>\n",
       "      <td>0</td>\n",
       "      <td>98006</td>\n",
       "      <td>47.5646</td>\n",
       "      <td>-122.129</td>\n",
       "      <td>3710</td>\n",
       "      <td>9685</td>\n",
       "    </tr>\n",
       "    <tr>\n",
       "      <th>3</th>\n",
       "      <td>20150331T000000</td>\n",
       "      <td>1490000.0</td>\n",
       "      <td>3</td>\n",
       "      <td>3.50</td>\n",
       "      <td>4560</td>\n",
       "      <td>14608</td>\n",
       "      <td>2.0</td>\n",
       "      <td>0</td>\n",
       "      <td>2</td>\n",
       "      <td>3</td>\n",
       "      <td>12</td>\n",
       "      <td>4560</td>\n",
       "      <td>0</td>\n",
       "      <td>1990</td>\n",
       "      <td>0</td>\n",
       "      <td>98034</td>\n",
       "      <td>47.6995</td>\n",
       "      <td>-122.228</td>\n",
       "      <td>4050</td>\n",
       "      <td>14226</td>\n",
       "    </tr>\n",
       "    <tr>\n",
       "      <th>4</th>\n",
       "      <td>20140714T000000</td>\n",
       "      <td>711000.0</td>\n",
       "      <td>3</td>\n",
       "      <td>2.50</td>\n",
       "      <td>2550</td>\n",
       "      <td>5376</td>\n",
       "      <td>2.0</td>\n",
       "      <td>0</td>\n",
       "      <td>0</td>\n",
       "      <td>3</td>\n",
       "      <td>9</td>\n",
       "      <td>2550</td>\n",
       "      <td>0</td>\n",
       "      <td>2004</td>\n",
       "      <td>0</td>\n",
       "      <td>98052</td>\n",
       "      <td>47.6647</td>\n",
       "      <td>-122.083</td>\n",
       "      <td>2250</td>\n",
       "      <td>4050</td>\n",
       "    </tr>\n",
       "  </tbody>\n",
       "</table>\n",
       "</div>"
      ],
      "text/plain": [
       "              date      price  bedrooms  bathrooms  sqft_living  sqft_lot  \\\n",
       "0  20141006T000000   365000.0         4       2.25         2070      8893   \n",
       "1  20140821T000000   865000.0         5       3.00         2900      6730   \n",
       "2  20140815T000000  1038000.0         4       2.50         3770     10893   \n",
       "3  20150331T000000  1490000.0         3       3.50         4560     14608   \n",
       "4  20140714T000000   711000.0         3       2.50         2550      5376   \n",
       "\n",
       "   floors  waterfront  view  condition  grade  sqft_above  sqft_basement  \\\n",
       "0     2.0           0     0          4      8        2070              0   \n",
       "1     1.0           0     0          5      8        1830           1070   \n",
       "2     2.0           0     2          3     11        3770              0   \n",
       "3     2.0           0     2          3     12        4560              0   \n",
       "4     2.0           0     0          3      9        2550              0   \n",
       "\n",
       "   yr_built  yr_renovated  zipcode      lat     long  sqft_living15  \\\n",
       "0      1986             0    98058  47.4388 -122.162           2390   \n",
       "1      1977             0    98115  47.6784 -122.285           2370   \n",
       "2      1997             0    98006  47.5646 -122.129           3710   \n",
       "3      1990             0    98034  47.6995 -122.228           4050   \n",
       "4      2004             0    98052  47.6647 -122.083           2250   \n",
       "\n",
       "   sqft_lot15  \n",
       "0        7700  \n",
       "1        6283  \n",
       "2        9685  \n",
       "3       14226  \n",
       "4        4050  "
      ]
     },
     "execution_count": 4,
     "metadata": {},
     "output_type": "execute_result"
    }
   ],
   "source": [
    "# look at first five rows\n",
    "df.head()"
   ]
  },
  {
   "cell_type": "code",
   "execution_count": 5,
   "metadata": {},
   "outputs": [
    {
     "data": {
      "text/plain": [
       "date              object\n",
       "price            float64\n",
       "bedrooms           int64\n",
       "bathrooms        float64\n",
       "sqft_living        int64\n",
       "sqft_lot           int64\n",
       "floors           float64\n",
       "waterfront         int64\n",
       "view               int64\n",
       "condition          int64\n",
       "grade              int64\n",
       "sqft_above         int64\n",
       "sqft_basement      int64\n",
       "yr_built           int64\n",
       "yr_renovated       int64\n",
       "zipcode            int64\n",
       "lat              float64\n",
       "long             float64\n",
       "sqft_living15      int64\n",
       "sqft_lot15         int64\n",
       "dtype: object"
      ]
     },
     "execution_count": 5,
     "metadata": {},
     "output_type": "execute_result"
    }
   ],
   "source": [
    "# look at columns and the datatypes\n",
    "df.dtypes"
   ]
  },
  {
   "cell_type": "markdown",
   "metadata": {},
   "source": [
    "## Formating Date"
   ]
  },
  {
   "cell_type": "code",
   "execution_count": 6,
   "metadata": {},
   "outputs": [],
   "source": [
    "# adding year, month, and day columns\n",
    "df['date'] = df['date'].str.slice(0, 8, 1)\n",
    "df['year_sold'] = df['date'].str.slice(0, 4, 1)\n",
    "df['month_sold'] = df['date'].str.slice(4, 6, 1)\n",
    "df['day_sold'] = df['date'].str.slice(6, 8, 1)"
   ]
  },
  {
   "cell_type": "code",
   "execution_count": 7,
   "metadata": {},
   "outputs": [],
   "source": [
    "# Adjusting dtypes and dropping original data column\n",
    "df['year_sold'] = df['year_sold'].astype('int64')\n",
    "df['month_sold'] = df['month_sold'].astype('int64')\n",
    "df['day_sold'] = df['day_sold'].astype('int64')\n",
    "df = df.drop(columns='date')"
   ]
  },
  {
   "cell_type": "markdown",
   "metadata": {},
   "source": [
    "## Create feature for rennovation"
   ]
  },
  {
   "cell_type": "code",
   "execution_count": 8,
   "metadata": {},
   "outputs": [],
   "source": [
    "# replace 0 with yr_built so it doesnt think zero is a year -- last time the house was updated\n",
    "df['yr_renovated'] = df['yr_renovated'].replace(0, df['yr_built'])"
   ]
  },
  {
   "cell_type": "code",
   "execution_count": 9,
   "metadata": {},
   "outputs": [],
   "source": [
    "# get a bool value for rennovation\n",
    "df['years_since_update'] = (2020 - df['yr_renovated'])"
   ]
  },
  {
   "cell_type": "markdown",
   "metadata": {},
   "source": [
    "In the histogram matrix below, you can see the wide range of years since the house's last rennovation."
   ]
  },
  {
   "cell_type": "markdown",
   "metadata": {},
   "source": [
    "## Create feature for basement"
   ]
  },
  {
   "cell_type": "code",
   "execution_count": 10,
   "metadata": {},
   "outputs": [],
   "source": [
    "# 0 == no basement, 1 == basement\n",
    "df['basement'] = np.where(df['sqft_basement']==0, 0, 1)\n"
   ]
  },
  {
   "cell_type": "markdown",
   "metadata": {},
   "source": [
    "## Looking at bedroom and bathrooms values"
   ]
  },
  {
   "cell_type": "code",
   "execution_count": 11,
   "metadata": {},
   "outputs": [
    {
     "data": {
      "image/png": "[encoded data removed]",
      "text/plain": [
       "<Figure size 1080x72 with 1 Axes>"
      ]
     },
     "metadata": {},
     "output_type": "display_data"
    }
   ],
   "source": [
    "sns.set(rc={'figure.figsize':(15,1)});\n",
    "sns.boxplot(data=df, x='bathrooms');"
   ]
  },
  {
   "cell_type": "markdown",
   "metadata": {},
   "source": [
    "Because the bathroom outliers are evenly scattered, I made the decision to keep the outliers and the values that fall between 0 and 1. "
   ]
  },
  {
   "cell_type": "code",
   "execution_count": 12,
   "metadata": {},
   "outputs": [
    {
     "data": {
      "image/png": "[encoded data removed]",
      "text/plain": [
       "<Figure size 1080x72 with 1 Axes>"
      ]
     },
     "metadata": {},
     "output_type": "display_data"
    }
   ],
   "source": [
    "# check boxplot for outliers\n",
    "sns.set(rc={'figure.figsize':(15,1)});\n",
    "sns.boxplot(data=df, x='bedrooms');"
   ]
  },
  {
   "cell_type": "code",
   "execution_count": 13,
   "metadata": {},
   "outputs": [],
   "source": [
    "# replacing 0 bedrooms with the median\n",
    "df['bedrooms'] = df['bedrooms'].replace(0, df['bedrooms'].median())"
   ]
  },
  {
   "cell_type": "markdown",
   "metadata": {},
   "source": [
    "### Statistical Test: Z-Score of house with 33 bedrooms"
   ]
  },
  {
   "cell_type": "code",
   "execution_count": 14,
   "metadata": {},
   "outputs": [
    {
     "name": "stdout",
     "output_type": "stream",
     "text": [
      "Z-Score:  31.678760980402068\n"
     ]
    }
   ],
   "source": [
    "x_hat = df.bedrooms.max()\n",
    "population_mean = df.bedrooms.mean()\n",
    "population_std = df.bedrooms.std()\n",
    "\n",
    "# execute z-score equation\n",
    "z_score = (x_hat - population_mean) / population_std\n",
    "\n",
    "print('Z-Score: ', z_score)"
   ]
  },
  {
   "cell_type": "markdown",
   "metadata": {},
   "source": [
    "This outlier falls 8.4 standard deviations outside the mean. The possibility of having that number of bedrooms in this dataset is almost zero. "
   ]
  },
  {
   "cell_type": "code",
   "execution_count": 15,
   "metadata": {},
   "outputs": [],
   "source": [
    "# updating incorrect value -- https://www.zillow.com/homedetails/8033-Corliss-Ave-N-Seattle-WA-98103/48795791_zpid/\n",
    "df.at[8597,'bedrooms']= 3\n"
   ]
  },
  {
   "cell_type": "markdown",
   "metadata": {},
   "source": [
    "## Plot the histograms for the current features"
   ]
  },
  {
   "cell_type": "code",
   "execution_count": 16,
   "metadata": {},
   "outputs": [
    {
     "data": {
      "image/png": "[encoded data removed]",
      "text/plain": [
       "<Figure size 1440x1080 with 25 Axes>"
      ]
     },
     "metadata": {
      "needs_background": "light"
     },
     "output_type": "display_data"
    }
   ],
   "source": [
    "%matplotlib inline\n",
    "import matplotlib.pyplot as plt\n",
    "df.hist(bins=10, figsize=(20,15))\n",
    "plt.show()"
   ]
  },
  {
   "cell_type": "markdown",
   "metadata": {},
   "source": [
    "## Current Features Cross Tab"
   ]
  },
  {
   "cell_type": "code",
   "execution_count": 17,
   "metadata": {},
   "outputs": [
    {
     "data": {
      "text/html": [
       "<div>\n",
       "<style scoped>\n",
       "    .dataframe tbody tr th:only-of-type {\n",
       "        vertical-align: middle;\n",
       "    }\n",
       "\n",
       "    .dataframe tbody tr th {\n",
       "        vertical-align: top;\n",
       "    }\n",
       "\n",
       "    .dataframe thead th {\n",
       "        text-align: right;\n",
       "    }\n",
       "</style>\n",
       "<table border=\"1\" class=\"dataframe\">\n",
       "  <thead>\n",
       "    <tr style=\"text-align: right;\">\n",
       "      <th></th>\n",
       "      <th>price</th>\n",
       "      <th>bedrooms</th>\n",
       "      <th>bathrooms</th>\n",
       "      <th>sqft_living</th>\n",
       "      <th>sqft_lot</th>\n",
       "      <th>floors</th>\n",
       "      <th>waterfront</th>\n",
       "      <th>view</th>\n",
       "      <th>condition</th>\n",
       "      <th>grade</th>\n",
       "      <th>sqft_above</th>\n",
       "      <th>sqft_basement</th>\n",
       "      <th>yr_built</th>\n",
       "      <th>yr_renovated</th>\n",
       "      <th>zipcode</th>\n",
       "      <th>lat</th>\n",
       "      <th>long</th>\n",
       "      <th>sqft_living15</th>\n",
       "      <th>sqft_lot15</th>\n",
       "      <th>year_sold</th>\n",
       "      <th>month_sold</th>\n",
       "      <th>day_sold</th>\n",
       "      <th>years_since_update</th>\n",
       "      <th>basement</th>\n",
       "    </tr>\n",
       "  </thead>\n",
       "  <tbody>\n",
       "    <tr>\n",
       "      <th>price</th>\n",
       "      <td>1.000000</td>\n",
       "      <td>0.314587</td>\n",
       "      <td>0.524335</td>\n",
       "      <td>0.703540</td>\n",
       "      <td>0.086803</td>\n",
       "      <td>0.256985</td>\n",
       "      <td>0.275779</td>\n",
       "      <td>0.395485</td>\n",
       "      <td>0.036099</td>\n",
       "      <td>0.666215</td>\n",
       "      <td>0.607760</td>\n",
       "      <td>0.323312</td>\n",
       "      <td>0.056450</td>\n",
       "      <td>0.104812</td>\n",
       "      <td>-0.048958</td>\n",
       "      <td>0.302394</td>\n",
       "      <td>0.019327</td>\n",
       "      <td>0.585567</td>\n",
       "      <td>0.081423</td>\n",
       "      <td>-0.002334</td>\n",
       "      <td>-0.004350</td>\n",
       "      <td>-0.017157</td>\n",
       "      <td>-0.104812</td>\n",
       "      <td>0.176970</td>\n",
       "    </tr>\n",
       "    <tr>\n",
       "      <th>bedrooms</th>\n",
       "      <td>0.314587</td>\n",
       "      <td>1.000000</td>\n",
       "      <td>0.522885</td>\n",
       "      <td>0.590562</td>\n",
       "      <td>0.031391</td>\n",
       "      <td>0.183104</td>\n",
       "      <td>-0.008915</td>\n",
       "      <td>0.083395</td>\n",
       "      <td>0.019158</td>\n",
       "      <td>0.366205</td>\n",
       "      <td>0.490699</td>\n",
       "      <td>0.307814</td>\n",
       "      <td>0.162173</td>\n",
       "      <td>0.170880</td>\n",
       "      <td>-0.153810</td>\n",
       "      <td>-0.004494</td>\n",
       "      <td>0.131383</td>\n",
       "      <td>0.403313</td>\n",
       "      <td>0.029400</td>\n",
       "      <td>-0.010618</td>\n",
       "      <td>0.003622</td>\n",
       "      <td>-0.010916</td>\n",
       "      <td>-0.170880</td>\n",
       "      <td>0.162861</td>\n",
       "    </tr>\n",
       "    <tr>\n",
       "      <th>bathrooms</th>\n",
       "      <td>0.524335</td>\n",
       "      <td>0.522885</td>\n",
       "      <td>1.000000</td>\n",
       "      <td>0.755270</td>\n",
       "      <td>0.085470</td>\n",
       "      <td>0.497967</td>\n",
       "      <td>0.065848</td>\n",
       "      <td>0.188817</td>\n",
       "      <td>-0.122976</td>\n",
       "      <td>0.664191</td>\n",
       "      <td>0.686853</td>\n",
       "      <td>0.282700</td>\n",
       "      <td>0.507761</td>\n",
       "      <td>0.536815</td>\n",
       "      <td>-0.201527</td>\n",
       "      <td>0.023074</td>\n",
       "      <td>0.221308</td>\n",
       "      <td>0.568080</td>\n",
       "      <td>0.086499</td>\n",
       "      <td>-0.030045</td>\n",
       "      <td>0.012950</td>\n",
       "      <td>-0.000155</td>\n",
       "      <td>-0.536815</td>\n",
       "      <td>0.162507</td>\n",
       "    </tr>\n",
       "    <tr>\n",
       "      <th>sqft_living</th>\n",
       "      <td>0.703540</td>\n",
       "      <td>0.590562</td>\n",
       "      <td>0.755270</td>\n",
       "      <td>1.000000</td>\n",
       "      <td>0.166810</td>\n",
       "      <td>0.357169</td>\n",
       "      <td>0.109738</td>\n",
       "      <td>0.283336</td>\n",
       "      <td>-0.061530</td>\n",
       "      <td>0.762929</td>\n",
       "      <td>0.876696</td>\n",
       "      <td>0.435529</td>\n",
       "      <td>0.319397</td>\n",
       "      <td>0.342839</td>\n",
       "      <td>-0.195893</td>\n",
       "      <td>0.052646</td>\n",
       "      <td>0.234453</td>\n",
       "      <td>0.755066</td>\n",
       "      <td>0.179570</td>\n",
       "      <td>-0.033606</td>\n",
       "      <td>0.017737</td>\n",
       "      <td>-0.009618</td>\n",
       "      <td>-0.342839</td>\n",
       "      <td>0.203606</td>\n",
       "    </tr>\n",
       "    <tr>\n",
       "      <th>sqft_lot</th>\n",
       "      <td>0.086803</td>\n",
       "      <td>0.031391</td>\n",
       "      <td>0.085470</td>\n",
       "      <td>0.166810</td>\n",
       "      <td>1.000000</td>\n",
       "      <td>-0.002205</td>\n",
       "      <td>0.015356</td>\n",
       "      <td>0.073058</td>\n",
       "      <td>-0.013715</td>\n",
       "      <td>0.110320</td>\n",
       "      <td>0.180755</td>\n",
       "      <td>0.008065</td>\n",
       "      <td>0.054228</td>\n",
       "      <td>0.052918</td>\n",
       "      <td>-0.126590</td>\n",
       "      <td>-0.082029</td>\n",
       "      <td>0.226190</td>\n",
       "      <td>0.136959</td>\n",
       "      <td>0.701875</td>\n",
       "      <td>0.003141</td>\n",
       "      <td>-0.001722</td>\n",
       "      <td>0.004204</td>\n",
       "      <td>-0.052918</td>\n",
       "      <td>-0.038675</td>\n",
       "    </tr>\n",
       "    <tr>\n",
       "      <th>floors</th>\n",
       "      <td>0.256985</td>\n",
       "      <td>0.183104</td>\n",
       "      <td>0.497967</td>\n",
       "      <td>0.357169</td>\n",
       "      <td>-0.002205</td>\n",
       "      <td>1.000000</td>\n",
       "      <td>0.025132</td>\n",
       "      <td>0.025883</td>\n",
       "      <td>-0.259230</td>\n",
       "      <td>0.458984</td>\n",
       "      <td>0.528509</td>\n",
       "      <td>-0.247481</td>\n",
       "      <td>0.483657</td>\n",
       "      <td>0.498899</td>\n",
       "      <td>-0.060560</td>\n",
       "      <td>0.048227</td>\n",
       "      <td>0.128795</td>\n",
       "      <td>0.283933</td>\n",
       "      <td>-0.008170</td>\n",
       "      <td>-0.024641</td>\n",
       "      <td>0.019629</td>\n",
       "      <td>-0.000914</td>\n",
       "      <td>-0.498899</td>\n",
       "      <td>-0.260333</td>\n",
       "    </tr>\n",
       "    <tr>\n",
       "      <th>waterfront</th>\n",
       "      <td>0.275779</td>\n",
       "      <td>-0.008915</td>\n",
       "      <td>0.065848</td>\n",
       "      <td>0.109738</td>\n",
       "      <td>0.015356</td>\n",
       "      <td>0.025132</td>\n",
       "      <td>1.000000</td>\n",
       "      <td>0.407565</td>\n",
       "      <td>0.009608</td>\n",
       "      <td>0.092234</td>\n",
       "      <td>0.077162</td>\n",
       "      <td>0.083433</td>\n",
       "      <td>-0.021981</td>\n",
       "      <td>0.005262</td>\n",
       "      <td>0.034282</td>\n",
       "      <td>-0.013331</td>\n",
       "      <td>-0.042728</td>\n",
       "      <td>0.091090</td>\n",
       "      <td>0.026895</td>\n",
       "      <td>-0.000824</td>\n",
       "      <td>0.005685</td>\n",
       "      <td>0.012574</td>\n",
       "      <td>-0.005262</td>\n",
       "      <td>0.039484</td>\n",
       "    </tr>\n",
       "    <tr>\n",
       "      <th>view</th>\n",
       "      <td>0.395485</td>\n",
       "      <td>0.083395</td>\n",
       "      <td>0.188817</td>\n",
       "      <td>0.283336</td>\n",
       "      <td>0.073058</td>\n",
       "      <td>0.025883</td>\n",
       "      <td>0.407565</td>\n",
       "      <td>1.000000</td>\n",
       "      <td>0.045060</td>\n",
       "      <td>0.249554</td>\n",
       "      <td>0.164747</td>\n",
       "      <td>0.279939</td>\n",
       "      <td>-0.049593</td>\n",
       "      <td>-0.020531</td>\n",
       "      <td>0.089475</td>\n",
       "      <td>0.003820</td>\n",
       "      <td>-0.077572</td>\n",
       "      <td>0.279999</td>\n",
       "      <td>0.073185</td>\n",
       "      <td>0.000701</td>\n",
       "      <td>-0.004189</td>\n",
       "      <td>0.013054</td>\n",
       "      <td>0.020531</td>\n",
       "      <td>0.187475</td>\n",
       "    </tr>\n",
       "    <tr>\n",
       "      <th>condition</th>\n",
       "      <td>0.036099</td>\n",
       "      <td>0.019158</td>\n",
       "      <td>-0.122976</td>\n",
       "      <td>-0.061530</td>\n",
       "      <td>-0.013715</td>\n",
       "      <td>-0.259230</td>\n",
       "      <td>0.009608</td>\n",
       "      <td>0.045060</td>\n",
       "      <td>1.000000</td>\n",
       "      <td>-0.142066</td>\n",
       "      <td>-0.157466</td>\n",
       "      <td>0.166923</td>\n",
       "      <td>-0.358921</td>\n",
       "      <td>-0.392758</td>\n",
       "      <td>0.007068</td>\n",
       "      <td>-0.009927</td>\n",
       "      <td>-0.109200</td>\n",
       "      <td>-0.094307</td>\n",
       "      <td>-0.007125</td>\n",
       "      <td>-0.044871</td>\n",
       "      <td>0.017099</td>\n",
       "      <td>-0.006111</td>\n",
       "      <td>0.392758</td>\n",
       "      <td>0.131918</td>\n",
       "    </tr>\n",
       "    <tr>\n",
       "      <th>grade</th>\n",
       "      <td>0.666215</td>\n",
       "      <td>0.366205</td>\n",
       "      <td>0.664191</td>\n",
       "      <td>0.762929</td>\n",
       "      <td>0.110320</td>\n",
       "      <td>0.458984</td>\n",
       "      <td>0.092234</td>\n",
       "      <td>0.249554</td>\n",
       "      <td>-0.142066</td>\n",
       "      <td>1.000000</td>\n",
       "      <td>0.758247</td>\n",
       "      <td>0.165003</td>\n",
       "      <td>0.448003</td>\n",
       "      <td>0.458830</td>\n",
       "      <td>-0.184946</td>\n",
       "      <td>0.116196</td>\n",
       "      <td>0.198369</td>\n",
       "      <td>0.715745</td>\n",
       "      <td>0.116062</td>\n",
       "      <td>-0.036560</td>\n",
       "      <td>0.015166</td>\n",
       "      <td>-0.009128</td>\n",
       "      <td>-0.458830</td>\n",
       "      <td>0.048776</td>\n",
       "    </tr>\n",
       "    <tr>\n",
       "      <th>sqft_above</th>\n",
       "      <td>0.607760</td>\n",
       "      <td>0.490699</td>\n",
       "      <td>0.686853</td>\n",
       "      <td>0.876696</td>\n",
       "      <td>0.180755</td>\n",
       "      <td>0.528509</td>\n",
       "      <td>0.077162</td>\n",
       "      <td>0.164747</td>\n",
       "      <td>-0.157466</td>\n",
       "      <td>0.758247</td>\n",
       "      <td>1.000000</td>\n",
       "      <td>-0.051199</td>\n",
       "      <td>0.424328</td>\n",
       "      <td>0.435125</td>\n",
       "      <td>-0.259745</td>\n",
       "      <td>0.001374</td>\n",
       "      <td>0.338192</td>\n",
       "      <td>0.731077</td>\n",
       "      <td>0.193874</td>\n",
       "      <td>-0.030934</td>\n",
       "      <td>0.017298</td>\n",
       "      <td>-0.000075</td>\n",
       "      <td>-0.435125</td>\n",
       "      <td>-0.211387</td>\n",
       "    </tr>\n",
       "    <tr>\n",
       "      <th>sqft_basement</th>\n",
       "      <td>0.323312</td>\n",
       "      <td>0.307814</td>\n",
       "      <td>0.282700</td>\n",
       "      <td>0.435529</td>\n",
       "      <td>0.008065</td>\n",
       "      <td>-0.247481</td>\n",
       "      <td>0.083433</td>\n",
       "      <td>0.279939</td>\n",
       "      <td>0.166923</td>\n",
       "      <td>0.165003</td>\n",
       "      <td>-0.051199</td>\n",
       "      <td>1.000000</td>\n",
       "      <td>-0.130948</td>\n",
       "      <td>-0.102485</td>\n",
       "      <td>0.079368</td>\n",
       "      <td>0.106727</td>\n",
       "      <td>-0.146112</td>\n",
       "      <td>0.199521</td>\n",
       "      <td>0.010007</td>\n",
       "      <td>-0.011882</td>\n",
       "      <td>0.004454</td>\n",
       "      <td>-0.019827</td>\n",
       "      <td>0.102485</td>\n",
       "      <td>0.818269</td>\n",
       "    </tr>\n",
       "    <tr>\n",
       "      <th>yr_built</th>\n",
       "      <td>0.056450</td>\n",
       "      <td>0.162173</td>\n",
       "      <td>0.507761</td>\n",
       "      <td>0.319397</td>\n",
       "      <td>0.054228</td>\n",
       "      <td>0.483657</td>\n",
       "      <td>-0.021981</td>\n",
       "      <td>-0.049593</td>\n",
       "      <td>-0.358921</td>\n",
       "      <td>0.448003</td>\n",
       "      <td>0.424328</td>\n",
       "      <td>-0.130948</td>\n",
       "      <td>1.000000</td>\n",
       "      <td>0.910566</td>\n",
       "      <td>-0.348366</td>\n",
       "      <td>-0.145220</td>\n",
       "      <td>0.407768</td>\n",
       "      <td>0.332340</td>\n",
       "      <td>0.076624</td>\n",
       "      <td>0.004059</td>\n",
       "      <td>-0.002317</td>\n",
       "      <td>-0.003433</td>\n",
       "      <td>-0.910566</td>\n",
       "      <td>-0.167741</td>\n",
       "    </tr>\n",
       "    <tr>\n",
       "      <th>yr_renovated</th>\n",
       "      <td>0.104812</td>\n",
       "      <td>0.170880</td>\n",
       "      <td>0.536815</td>\n",
       "      <td>0.342839</td>\n",
       "      <td>0.052918</td>\n",
       "      <td>0.498899</td>\n",
       "      <td>0.005262</td>\n",
       "      <td>-0.020531</td>\n",
       "      <td>-0.392758</td>\n",
       "      <td>0.458830</td>\n",
       "      <td>0.435125</td>\n",
       "      <td>-0.102485</td>\n",
       "      <td>0.910566</td>\n",
       "      <td>1.000000</td>\n",
       "      <td>-0.322782</td>\n",
       "      <td>-0.133833</td>\n",
       "      <td>0.384442</td>\n",
       "      <td>0.327450</td>\n",
       "      <td>0.074562</td>\n",
       "      <td>-0.004748</td>\n",
       "      <td>0.001553</td>\n",
       "      <td>0.000348</td>\n",
       "      <td>-1.000000</td>\n",
       "      <td>-0.144946</td>\n",
       "    </tr>\n",
       "    <tr>\n",
       "      <th>zipcode</th>\n",
       "      <td>-0.048958</td>\n",
       "      <td>-0.153810</td>\n",
       "      <td>-0.201527</td>\n",
       "      <td>-0.195893</td>\n",
       "      <td>-0.126590</td>\n",
       "      <td>-0.060560</td>\n",
       "      <td>0.034282</td>\n",
       "      <td>0.089475</td>\n",
       "      <td>0.007068</td>\n",
       "      <td>-0.184946</td>\n",
       "      <td>-0.259745</td>\n",
       "      <td>0.079368</td>\n",
       "      <td>-0.348366</td>\n",
       "      <td>-0.322782</td>\n",
       "      <td>1.000000</td>\n",
       "      <td>0.264712</td>\n",
       "      <td>-0.563027</td>\n",
       "      <td>-0.273903</td>\n",
       "      <td>-0.145921</td>\n",
       "      <td>0.004140</td>\n",
       "      <td>-0.005048</td>\n",
       "      <td>-0.002882</td>\n",
       "      <td>0.322782</td>\n",
       "      <td>0.167239</td>\n",
       "    </tr>\n",
       "    <tr>\n",
       "      <th>lat</th>\n",
       "      <td>0.302394</td>\n",
       "      <td>-0.004494</td>\n",
       "      <td>0.023074</td>\n",
       "      <td>0.052646</td>\n",
       "      <td>-0.082029</td>\n",
       "      <td>0.048227</td>\n",
       "      <td>-0.013331</td>\n",
       "      <td>0.003820</td>\n",
       "      <td>-0.009927</td>\n",
       "      <td>0.116196</td>\n",
       "      <td>0.001374</td>\n",
       "      <td>0.106727</td>\n",
       "      <td>-0.145220</td>\n",
       "      <td>-0.133833</td>\n",
       "      <td>0.264712</td>\n",
       "      <td>1.000000</td>\n",
       "      <td>-0.131514</td>\n",
       "      <td>0.054175</td>\n",
       "      <td>-0.086265</td>\n",
       "      <td>-0.027701</td>\n",
       "      <td>0.013219</td>\n",
       "      <td>-0.024872</td>\n",
       "      <td>0.133833</td>\n",
       "      <td>0.132996</td>\n",
       "    </tr>\n",
       "    <tr>\n",
       "      <th>long</th>\n",
       "      <td>0.019327</td>\n",
       "      <td>0.131383</td>\n",
       "      <td>0.221308</td>\n",
       "      <td>0.234453</td>\n",
       "      <td>0.226190</td>\n",
       "      <td>0.128795</td>\n",
       "      <td>-0.042728</td>\n",
       "      <td>-0.077572</td>\n",
       "      <td>-0.109200</td>\n",
       "      <td>0.198369</td>\n",
       "      <td>0.338192</td>\n",
       "      <td>-0.146112</td>\n",
       "      <td>0.407768</td>\n",
       "      <td>0.384442</td>\n",
       "      <td>-0.563027</td>\n",
       "      <td>-0.131514</td>\n",
       "      <td>1.000000</td>\n",
       "      <td>0.327882</td>\n",
       "      <td>0.253981</td>\n",
       "      <td>0.001626</td>\n",
       "      <td>-0.007337</td>\n",
       "      <td>-0.008989</td>\n",
       "      <td>-0.384442</td>\n",
       "      <td>-0.239283</td>\n",
       "    </tr>\n",
       "    <tr>\n",
       "      <th>sqft_living15</th>\n",
       "      <td>0.585567</td>\n",
       "      <td>0.403313</td>\n",
       "      <td>0.568080</td>\n",
       "      <td>0.755066</td>\n",
       "      <td>0.136959</td>\n",
       "      <td>0.283933</td>\n",
       "      <td>0.091090</td>\n",
       "      <td>0.279999</td>\n",
       "      <td>-0.094307</td>\n",
       "      <td>0.715745</td>\n",
       "      <td>0.731077</td>\n",
       "      <td>0.199521</td>\n",
       "      <td>0.332340</td>\n",
       "      <td>0.327450</td>\n",
       "      <td>-0.273903</td>\n",
       "      <td>0.054175</td>\n",
       "      <td>0.327882</td>\n",
       "      <td>1.000000</td>\n",
       "      <td>0.178533</td>\n",
       "      <td>-0.026342</td>\n",
       "      <td>0.006104</td>\n",
       "      <td>-0.006491</td>\n",
       "      <td>-0.327450</td>\n",
       "      <td>0.040876</td>\n",
       "    </tr>\n",
       "    <tr>\n",
       "      <th>sqft_lot15</th>\n",
       "      <td>0.081423</td>\n",
       "      <td>0.029400</td>\n",
       "      <td>0.086499</td>\n",
       "      <td>0.179570</td>\n",
       "      <td>0.701875</td>\n",
       "      <td>-0.008170</td>\n",
       "      <td>0.026895</td>\n",
       "      <td>0.073185</td>\n",
       "      <td>-0.007125</td>\n",
       "      <td>0.116062</td>\n",
       "      <td>0.193874</td>\n",
       "      <td>0.010007</td>\n",
       "      <td>0.076624</td>\n",
       "      <td>0.074562</td>\n",
       "      <td>-0.145921</td>\n",
       "      <td>-0.086265</td>\n",
       "      <td>0.253981</td>\n",
       "      <td>0.178533</td>\n",
       "      <td>1.000000</td>\n",
       "      <td>-0.005160</td>\n",
       "      <td>0.007212</td>\n",
       "      <td>-0.003095</td>\n",
       "      <td>-0.074562</td>\n",
       "      <td>-0.044789</td>\n",
       "    </tr>\n",
       "    <tr>\n",
       "      <th>year_sold</th>\n",
       "      <td>-0.002334</td>\n",
       "      <td>-0.010618</td>\n",
       "      <td>-0.030045</td>\n",
       "      <td>-0.033606</td>\n",
       "      <td>0.003141</td>\n",
       "      <td>-0.024641</td>\n",
       "      <td>-0.000824</td>\n",
       "      <td>0.000701</td>\n",
       "      <td>-0.044871</td>\n",
       "      <td>-0.036560</td>\n",
       "      <td>-0.030934</td>\n",
       "      <td>-0.011882</td>\n",
       "      <td>0.004059</td>\n",
       "      <td>-0.004748</td>\n",
       "      <td>0.004140</td>\n",
       "      <td>-0.027701</td>\n",
       "      <td>0.001626</td>\n",
       "      <td>-0.026342</td>\n",
       "      <td>-0.005160</td>\n",
       "      <td>1.000000</td>\n",
       "      <td>-0.781982</td>\n",
       "      <td>-0.007459</td>\n",
       "      <td>0.004748</td>\n",
       "      <td>-0.002596</td>\n",
       "    </tr>\n",
       "    <tr>\n",
       "      <th>month_sold</th>\n",
       "      <td>-0.004350</td>\n",
       "      <td>0.003622</td>\n",
       "      <td>0.012950</td>\n",
       "      <td>0.017737</td>\n",
       "      <td>-0.001722</td>\n",
       "      <td>0.019629</td>\n",
       "      <td>0.005685</td>\n",
       "      <td>-0.004189</td>\n",
       "      <td>0.017099</td>\n",
       "      <td>0.015166</td>\n",
       "      <td>0.017298</td>\n",
       "      <td>0.004454</td>\n",
       "      <td>-0.002317</td>\n",
       "      <td>0.001553</td>\n",
       "      <td>-0.005048</td>\n",
       "      <td>0.013219</td>\n",
       "      <td>-0.007337</td>\n",
       "      <td>0.006104</td>\n",
       "      <td>0.007212</td>\n",
       "      <td>-0.781982</td>\n",
       "      <td>1.000000</td>\n",
       "      <td>-0.058355</td>\n",
       "      <td>-0.001553</td>\n",
       "      <td>0.003219</td>\n",
       "    </tr>\n",
       "    <tr>\n",
       "      <th>day_sold</th>\n",
       "      <td>-0.017157</td>\n",
       "      <td>-0.010916</td>\n",
       "      <td>-0.000155</td>\n",
       "      <td>-0.009618</td>\n",
       "      <td>0.004204</td>\n",
       "      <td>-0.000914</td>\n",
       "      <td>0.012574</td>\n",
       "      <td>0.013054</td>\n",
       "      <td>-0.006111</td>\n",
       "      <td>-0.009128</td>\n",
       "      <td>-0.000075</td>\n",
       "      <td>-0.019827</td>\n",
       "      <td>-0.003433</td>\n",
       "      <td>0.000348</td>\n",
       "      <td>-0.002882</td>\n",
       "      <td>-0.024872</td>\n",
       "      <td>-0.008989</td>\n",
       "      <td>-0.006491</td>\n",
       "      <td>-0.003095</td>\n",
       "      <td>-0.007459</td>\n",
       "      <td>-0.058355</td>\n",
       "      <td>1.000000</td>\n",
       "      <td>-0.000348</td>\n",
       "      <td>-0.017886</td>\n",
       "    </tr>\n",
       "    <tr>\n",
       "      <th>years_since_update</th>\n",
       "      <td>-0.104812</td>\n",
       "      <td>-0.170880</td>\n",
       "      <td>-0.536815</td>\n",
       "      <td>-0.342839</td>\n",
       "      <td>-0.052918</td>\n",
       "      <td>-0.498899</td>\n",
       "      <td>-0.005262</td>\n",
       "      <td>0.020531</td>\n",
       "      <td>0.392758</td>\n",
       "      <td>-0.458830</td>\n",
       "      <td>-0.435125</td>\n",
       "      <td>0.102485</td>\n",
       "      <td>-0.910566</td>\n",
       "      <td>-1.000000</td>\n",
       "      <td>0.322782</td>\n",
       "      <td>0.133833</td>\n",
       "      <td>-0.384442</td>\n",
       "      <td>-0.327450</td>\n",
       "      <td>-0.074562</td>\n",
       "      <td>0.004748</td>\n",
       "      <td>-0.001553</td>\n",
       "      <td>-0.000348</td>\n",
       "      <td>1.000000</td>\n",
       "      <td>0.144946</td>\n",
       "    </tr>\n",
       "    <tr>\n",
       "      <th>basement</th>\n",
       "      <td>0.176970</td>\n",
       "      <td>0.162861</td>\n",
       "      <td>0.162507</td>\n",
       "      <td>0.203606</td>\n",
       "      <td>-0.038675</td>\n",
       "      <td>-0.260333</td>\n",
       "      <td>0.039484</td>\n",
       "      <td>0.187475</td>\n",
       "      <td>0.131918</td>\n",
       "      <td>0.048776</td>\n",
       "      <td>-0.211387</td>\n",
       "      <td>0.818269</td>\n",
       "      <td>-0.167741</td>\n",
       "      <td>-0.144946</td>\n",
       "      <td>0.167239</td>\n",
       "      <td>0.132996</td>\n",
       "      <td>-0.239283</td>\n",
       "      <td>0.040876</td>\n",
       "      <td>-0.044789</td>\n",
       "      <td>-0.002596</td>\n",
       "      <td>0.003219</td>\n",
       "      <td>-0.017886</td>\n",
       "      <td>0.144946</td>\n",
       "      <td>1.000000</td>\n",
       "    </tr>\n",
       "  </tbody>\n",
       "</table>\n",
       "</div>"
      ],
      "text/plain": [
       "                       price  bedrooms  bathrooms  sqft_living  sqft_lot  \\\n",
       "price               1.000000  0.314587   0.524335     0.703540  0.086803   \n",
       "bedrooms            0.314587  1.000000   0.522885     0.590562  0.031391   \n",
       "bathrooms           0.524335  0.522885   1.000000     0.755270  0.085470   \n",
       "sqft_living         0.703540  0.590562   0.755270     1.000000  0.166810   \n",
       "sqft_lot            0.086803  0.031391   0.085470     0.166810  1.000000   \n",
       "floors              0.256985  0.183104   0.497967     0.357169 -0.002205   \n",
       "waterfront          0.275779 -0.008915   0.065848     0.109738  0.015356   \n",
       "view                0.395485  0.083395   0.188817     0.283336  0.073058   \n",
       "condition           0.036099  0.019158  -0.122976    -0.061530 -0.013715   \n",
       "grade               0.666215  0.366205   0.664191     0.762929  0.110320   \n",
       "sqft_above          0.607760  0.490699   0.686853     0.876696  0.180755   \n",
       "sqft_basement       0.323312  0.307814   0.282700     0.435529  0.008065   \n",
       "yr_built            0.056450  0.162173   0.507761     0.319397  0.054228   \n",
       "yr_renovated        0.104812  0.170880   0.536815     0.342839  0.052918   \n",
       "zipcode            -0.048958 -0.153810  -0.201527    -0.195893 -0.126590   \n",
       "lat                 0.302394 -0.004494   0.023074     0.052646 -0.082029   \n",
       "long                0.019327  0.131383   0.221308     0.234453  0.226190   \n",
       "sqft_living15       0.585567  0.403313   0.568080     0.755066  0.136959   \n",
       "sqft_lot15          0.081423  0.029400   0.086499     0.179570  0.701875   \n",
       "year_sold          -0.002334 -0.010618  -0.030045    -0.033606  0.003141   \n",
       "month_sold         -0.004350  0.003622   0.012950     0.017737 -0.001722   \n",
       "day_sold           -0.017157 -0.010916  -0.000155    -0.009618  0.004204   \n",
       "years_since_update -0.104812 -0.170880  -0.536815    -0.342839 -0.052918   \n",
       "basement            0.176970  0.162861   0.162507     0.203606 -0.038675   \n",
       "\n",
       "                      floors  waterfront      view  condition     grade  \\\n",
       "price               0.256985    0.275779  0.395485   0.036099  0.666215   \n",
       "bedrooms            0.183104   -0.008915  0.083395   0.019158  0.366205   \n",
       "bathrooms           0.497967    0.065848  0.188817  -0.122976  0.664191   \n",
       "sqft_living         0.357169    0.109738  0.283336  -0.061530  0.762929   \n",
       "sqft_lot           -0.002205    0.015356  0.073058  -0.013715  0.110320   \n",
       "floors              1.000000    0.025132  0.025883  -0.259230  0.458984   \n",
       "waterfront          0.025132    1.000000  0.407565   0.009608  0.092234   \n",
       "view                0.025883    0.407565  1.000000   0.045060  0.249554   \n",
       "condition          -0.259230    0.009608  0.045060   1.000000 -0.142066   \n",
       "grade               0.458984    0.092234  0.249554  -0.142066  1.000000   \n",
       "sqft_above          0.528509    0.077162  0.164747  -0.157466  0.758247   \n",
       "sqft_basement      -0.247481    0.083433  0.279939   0.166923  0.165003   \n",
       "yr_built            0.483657   -0.021981 -0.049593  -0.358921  0.448003   \n",
       "yr_renovated        0.498899    0.005262 -0.020531  -0.392758  0.458830   \n",
       "zipcode            -0.060560    0.034282  0.089475   0.007068 -0.184946   \n",
       "lat                 0.048227   -0.013331  0.003820  -0.009927  0.116196   \n",
       "long                0.128795   -0.042728 -0.077572  -0.109200  0.198369   \n",
       "sqft_living15       0.283933    0.091090  0.279999  -0.094307  0.715745   \n",
       "sqft_lot15         -0.008170    0.026895  0.073185  -0.007125  0.116062   \n",
       "year_sold          -0.024641   -0.000824  0.000701  -0.044871 -0.036560   \n",
       "month_sold          0.019629    0.005685 -0.004189   0.017099  0.015166   \n",
       "day_sold           -0.000914    0.012574  0.013054  -0.006111 -0.009128   \n",
       "years_since_update -0.498899   -0.005262  0.020531   0.392758 -0.458830   \n",
       "basement           -0.260333    0.039484  0.187475   0.131918  0.048776   \n",
       "\n",
       "                    sqft_above  sqft_basement  yr_built  yr_renovated  \\\n",
       "price                 0.607760       0.323312  0.056450      0.104812   \n",
       "bedrooms              0.490699       0.307814  0.162173      0.170880   \n",
       "bathrooms             0.686853       0.282700  0.507761      0.536815   \n",
       "sqft_living           0.876696       0.435529  0.319397      0.342839   \n",
       "sqft_lot              0.180755       0.008065  0.054228      0.052918   \n",
       "floors                0.528509      -0.247481  0.483657      0.498899   \n",
       "waterfront            0.077162       0.083433 -0.021981      0.005262   \n",
       "view                  0.164747       0.279939 -0.049593     -0.020531   \n",
       "condition            -0.157466       0.166923 -0.358921     -0.392758   \n",
       "grade                 0.758247       0.165003  0.448003      0.458830   \n",
       "sqft_above            1.000000      -0.051199  0.424328      0.435125   \n",
       "sqft_basement        -0.051199       1.000000 -0.130948     -0.102485   \n",
       "yr_built              0.424328      -0.130948  1.000000      0.910566   \n",
       "yr_renovated          0.435125      -0.102485  0.910566      1.000000   \n",
       "zipcode              -0.259745       0.079368 -0.348366     -0.322782   \n",
       "lat                   0.001374       0.106727 -0.145220     -0.133833   \n",
       "long                  0.338192      -0.146112  0.407768      0.384442   \n",
       "sqft_living15         0.731077       0.199521  0.332340      0.327450   \n",
       "sqft_lot15            0.193874       0.010007  0.076624      0.074562   \n",
       "year_sold            -0.030934      -0.011882  0.004059     -0.004748   \n",
       "month_sold            0.017298       0.004454 -0.002317      0.001553   \n",
       "day_sold             -0.000075      -0.019827 -0.003433      0.000348   \n",
       "years_since_update   -0.435125       0.102485 -0.910566     -1.000000   \n",
       "basement             -0.211387       0.818269 -0.167741     -0.144946   \n",
       "\n",
       "                     zipcode       lat      long  sqft_living15  sqft_lot15  \\\n",
       "price              -0.048958  0.302394  0.019327       0.585567    0.081423   \n",
       "bedrooms           -0.153810 -0.004494  0.131383       0.403313    0.029400   \n",
       "bathrooms          -0.201527  0.023074  0.221308       0.568080    0.086499   \n",
       "sqft_living        -0.195893  0.052646  0.234453       0.755066    0.179570   \n",
       "sqft_lot           -0.126590 -0.082029  0.226190       0.136959    0.701875   \n",
       "floors             -0.060560  0.048227  0.128795       0.283933   -0.008170   \n",
       "waterfront          0.034282 -0.013331 -0.042728       0.091090    0.026895   \n",
       "view                0.089475  0.003820 -0.077572       0.279999    0.073185   \n",
       "condition           0.007068 -0.009927 -0.109200      -0.094307   -0.007125   \n",
       "grade              -0.184946  0.116196  0.198369       0.715745    0.116062   \n",
       "sqft_above         -0.259745  0.001374  0.338192       0.731077    0.193874   \n",
       "sqft_basement       0.079368  0.106727 -0.146112       0.199521    0.010007   \n",
       "yr_built           -0.348366 -0.145220  0.407768       0.332340    0.076624   \n",
       "yr_renovated       -0.322782 -0.133833  0.384442       0.327450    0.074562   \n",
       "zipcode             1.000000  0.264712 -0.563027      -0.273903   -0.145921   \n",
       "lat                 0.264712  1.000000 -0.131514       0.054175   -0.086265   \n",
       "long               -0.563027 -0.131514  1.000000       0.327882    0.253981   \n",
       "sqft_living15      -0.273903  0.054175  0.327882       1.000000    0.178533   \n",
       "sqft_lot15         -0.145921 -0.086265  0.253981       0.178533    1.000000   \n",
       "year_sold           0.004140 -0.027701  0.001626      -0.026342   -0.005160   \n",
       "month_sold         -0.005048  0.013219 -0.007337       0.006104    0.007212   \n",
       "day_sold           -0.002882 -0.024872 -0.008989      -0.006491   -0.003095   \n",
       "years_since_update  0.322782  0.133833 -0.384442      -0.327450   -0.074562   \n",
       "basement            0.167239  0.132996 -0.239283       0.040876   -0.044789   \n",
       "\n",
       "                    year_sold  month_sold  day_sold  years_since_update  \\\n",
       "price               -0.002334   -0.004350 -0.017157           -0.104812   \n",
       "bedrooms            -0.010618    0.003622 -0.010916           -0.170880   \n",
       "bathrooms           -0.030045    0.012950 -0.000155           -0.536815   \n",
       "sqft_living         -0.033606    0.017737 -0.009618           -0.342839   \n",
       "sqft_lot             0.003141   -0.001722  0.004204           -0.052918   \n",
       "floors              -0.024641    0.019629 -0.000914           -0.498899   \n",
       "waterfront          -0.000824    0.005685  0.012574           -0.005262   \n",
       "view                 0.000701   -0.004189  0.013054            0.020531   \n",
       "condition           -0.044871    0.017099 -0.006111            0.392758   \n",
       "grade               -0.036560    0.015166 -0.009128           -0.458830   \n",
       "sqft_above          -0.030934    0.017298 -0.000075           -0.435125   \n",
       "sqft_basement       -0.011882    0.004454 -0.019827            0.102485   \n",
       "yr_built             0.004059   -0.002317 -0.003433           -0.910566   \n",
       "yr_renovated        -0.004748    0.001553  0.000348           -1.000000   \n",
       "zipcode              0.004140   -0.005048 -0.002882            0.322782   \n",
       "lat                 -0.027701    0.013219 -0.024872            0.133833   \n",
       "long                 0.001626   -0.007337 -0.008989           -0.384442   \n",
       "sqft_living15       -0.026342    0.006104 -0.006491           -0.327450   \n",
       "sqft_lot15          -0.005160    0.007212 -0.003095           -0.074562   \n",
       "year_sold            1.000000   -0.781982 -0.007459            0.004748   \n",
       "month_sold          -0.781982    1.000000 -0.058355           -0.001553   \n",
       "day_sold            -0.007459   -0.058355  1.000000           -0.000348   \n",
       "years_since_update   0.004748   -0.001553 -0.000348            1.000000   \n",
       "basement            -0.002596    0.003219 -0.017886            0.144946   \n",
       "\n",
       "                    basement  \n",
       "price               0.176970  \n",
       "bedrooms            0.162861  \n",
       "bathrooms           0.162507  \n",
       "sqft_living         0.203606  \n",
       "sqft_lot           -0.038675  \n",
       "floors             -0.260333  \n",
       "waterfront          0.039484  \n",
       "view                0.187475  \n",
       "condition           0.131918  \n",
       "grade               0.048776  \n",
       "sqft_above         -0.211387  \n",
       "sqft_basement       0.818269  \n",
       "yr_built           -0.167741  \n",
       "yr_renovated       -0.144946  \n",
       "zipcode             0.167239  \n",
       "lat                 0.132996  \n",
       "long               -0.239283  \n",
       "sqft_living15       0.040876  \n",
       "sqft_lot15         -0.044789  \n",
       "year_sold          -0.002596  \n",
       "month_sold          0.003219  \n",
       "day_sold           -0.017886  \n",
       "years_since_update  0.144946  \n",
       "basement            1.000000  "
      ]
     },
     "execution_count": 17,
     "metadata": {},
     "output_type": "execute_result"
    }
   ],
   "source": [
    "df.corr()"
   ]
  },
  {
   "cell_type": "markdown",
   "metadata": {},
   "source": [
    "### The feature sqft_living has the highest correlation with price"
   ]
  },
  {
   "cell_type": "code",
   "execution_count": 18,
   "metadata": {},
   "outputs": [
    {
     "name": "stderr",
     "output_type": "stream",
     "text": [
      "'c' argument looks like a single numeric RGB or RGBA sequence, which should be avoided as value-mapping will have precedence in case its length matches with 'x' & 'y'.  Please use a 2-D array with a single row if you really want to specify the same RGB or RGBA value for all points.\n"
     ]
    },
    {
     "data": {
      "image/png": "[encoded data removed]",
      "text/plain": [
       "<Figure size 432x288 with 1 Axes>"
      ]
     },
     "metadata": {
      "needs_background": "light"
     },
     "output_type": "display_data"
    }
   ],
   "source": [
    "# create plot\n",
    "df.plot.scatter(x='sqft_living', y='price');\n",
    "sns.regplot(data=df, x='sqft_living', y='price');\n",
    "plt.title('Square Footage Effect on Housing Price');\n",
    "plt.xlabel('Square Footage');\n",
    "plt.ylabel('Price');"
   ]
  },
  {
   "cell_type": "markdown",
   "metadata": {},
   "source": [
    "### Breaking price down by month it was sold"
   ]
  },
  {
   "cell_type": "code",
   "execution_count": 19,
   "metadata": {},
   "outputs": [
    {
     "data": {
      "image/png": "[encoded data removed]",
      "text/plain": [
       "<Figure size 648x576 with 1 Axes>"
      ]
     },
     "metadata": {},
     "output_type": "display_data"
    }
   ],
   "source": [
    "month_price = df.groupby(['month_sold'])['price'].sum().reset_index().sort_values('month_sold', ascending=True)\n",
    "\n",
    "sns.set(rc={'figure.figsize':(9,8)})\n",
    "plot = sns.barplot('month_sold','price' , data = month_price, order= month_price['month_sold'], palette='Oranges');\n",
    "plot.set_title('House Prices, By Month',fontsize=18);\n",
    "plt.xlabel('Month', fontsize=14);\n",
    "plt.ylabel('Price', fontsize=14);"
   ]
  },
  {
   "cell_type": "markdown",
   "metadata": {},
   "source": [
    "## Group Months into Quarters\n",
    "In the bar visualization above, the highest three months are March, April, and May. Because those three compose quarter 2 of the year, I am creating 3 features for the first three quarters. Quarter 4 is the dummy variable."
   ]
  },
  {
   "cell_type": "code",
   "execution_count": 20,
   "metadata": {},
   "outputs": [],
   "source": [
    "df['q1'] = np.where((df['month_sold']==1) | (df['month_sold']==2) | (df['month_sold']==3), 1, 0)"
   ]
  },
  {
   "cell_type": "code",
   "execution_count": 21,
   "metadata": {},
   "outputs": [],
   "source": [
    "df['q2'] = np.where((df['month_sold']==4) | (df['month_sold']==5) | (df['month_sold']==6), 1, 0)"
   ]
  },
  {
   "cell_type": "code",
   "execution_count": 22,
   "metadata": {},
   "outputs": [],
   "source": [
    "df['q3'] = np.where((df['month_sold']==7) | (df['month_sold']==8) | (df['month_sold']==9), 1, 0)"
   ]
  },
  {
   "cell_type": "markdown",
   "metadata": {},
   "source": [
    "<br>"
   ]
  },
  {
   "cell_type": "markdown",
   "metadata": {},
   "source": [
    "## Statistical Test: Two Sample T-Test\n",
    "- Our NULL hypothesis: mean of Q2 == mean of !Q2\n",
    "- Our alternative hypothesis: mean of Q2 != mean of !Q2"
   ]
  },
  {
   "cell_type": "code",
   "execution_count": 23,
   "metadata": {},
   "outputs": [
    {
     "data": {
      "text/plain": [
       "q2\n",
       "0    532295.161033\n",
       "1    558913.841386\n",
       "Name: price, dtype: float64"
      ]
     },
     "execution_count": 23,
     "metadata": {},
     "output_type": "execute_result"
    }
   ],
   "source": [
    "# not Q2 == 0, Q2 == 1\n",
    "df.groupby('q2')['price'].mean()"
   ]
  },
  {
   "cell_type": "code",
   "execution_count": 24,
   "metadata": {},
   "outputs": [
    {
     "name": "stdout",
     "output_type": "stream",
     "text": [
      "POPULATION\n",
      "Mean:  540739.5486408329 \n",
      "Standard Deviation: 373318.9787492793\n",
      "\n",
      "QUARTER 2\n",
      "Mean:  558913.8413855971 \n",
      "Standard Deviation: 384954.0430415352\n",
      "\n",
      "QUARTER 1,3, AND 4\n",
      "Mean:  532295.1610334604 \n",
      "Standard Deviation: 367498.58963784477\n"
     ]
    }
   ],
   "source": [
    "pop_mean = df.price.mean()\n",
    "pop_std = df.price.std()\n",
    "print('POPULATION\\nMean: ', pop_mean, '\\nStandard Deviation:', pop_std)\n",
    "\n",
    "q2_mean = df.groupby('q2')['price'].mean()[1]\n",
    "q2_std = df.groupby('q2')['price'].std()[1]\n",
    "q2_num = df.groupby('q2')['price'].count()[1]\n",
    "print('\\nQUARTER 2\\nMean: ', q2_mean, '\\nStandard Deviation:', q2_std)\n",
    "\n",
    "not_q2_mean = df.groupby('q2')['price'].mean()[0]\n",
    "not_q2_std = df.groupby('q2')['price'].std()[0]\n",
    "not_q2_num = df.groupby('q2')['price'].count()[0]\n",
    "print('\\nQUARTER 1,3, AND 4\\nMean: ', not_q2_mean, '\\nStandard Deviation:', not_q2_std)"
   ]
  },
  {
   "cell_type": "code",
   "execution_count": 25,
   "metadata": {},
   "outputs": [],
   "source": [
    "# Testing for the difference of two means\n",
    "\n",
    "# laying out the equation\n",
    "numerator = ((q2_mean - not_q2_mean) - 0)\n",
    "denominator = (((q2_std**2)/q2_num)+((not_q2_std**2)/not_q2_num))**.5\n",
    "# denominator = (((q2_std**2)/q2_num)+((not_q2_std**2)/not_q2_num))**.5\n",
    "\n",
    "# calculating the t score\n",
    "t = numerator/denominator\n",
    "\n",
    "# calculate p-value from the t score\n",
    "p_value = stats.t.sf(abs(t), df=(q2_num + not_q2_num - 2))"
   ]
  },
  {
   "cell_type": "code",
   "execution_count": 26,
   "metadata": {},
   "outputs": [
    {
     "name": "stdout",
     "output_type": "stream",
     "text": [
      "𝛼 = 0.05\n",
      "t-value:  4.292344127490549 \n",
      "p-value:  0.000008887944830\n"
     ]
    }
   ],
   "source": [
    "print('𝛼 = 0.05\\nt-value: ', t, '\\np-value: ', \"%.15f\" % p_value)"
   ]
  },
  {
   "cell_type": "markdown",
   "metadata": {},
   "source": [
    "For this statistical test, the p-value is less than our alpha .05 meaning it is extremely unlikey to collect this sample data if the spending from both populations are equal to one another. Therefore, we can reject the null hypothesis."
   ]
  },
  {
   "cell_type": "markdown",
   "metadata": {},
   "source": [
    "<br>"
   ]
  },
  {
   "cell_type": "markdown",
   "metadata": {},
   "source": [
    "## Distance from Top School Features\n",
    "Code for scraper in scraper1.py"
   ]
  },
  {
   "cell_type": "code",
   "execution_count": 27,
   "metadata": {},
   "outputs": [
    {
     "data": {
      "text/html": [
       "<div>\n",
       "<style scoped>\n",
       "    .dataframe tbody tr th:only-of-type {\n",
       "        vertical-align: middle;\n",
       "    }\n",
       "\n",
       "    .dataframe tbody tr th {\n",
       "        vertical-align: top;\n",
       "    }\n",
       "\n",
       "    .dataframe thead th {\n",
       "        text-align: right;\n",
       "    }\n",
       "</style>\n",
       "<table border=\"1\" class=\"dataframe\">\n",
       "  <thead>\n",
       "    <tr style=\"text-align: right;\">\n",
       "      <th></th>\n",
       "      <th>name</th>\n",
       "      <th>lat</th>\n",
       "      <th>long</th>\n",
       "      <th>ad</th>\n",
       "    </tr>\n",
       "  </thead>\n",
       "  <tbody>\n",
       "    <tr>\n",
       "      <th>0</th>\n",
       "      <td>Cascadia Elementary School</td>\n",
       "      <td>47.695213</td>\n",
       "      <td>-122.337156</td>\n",
       "      <td>1700 N 90th Street  Seattle, WA 98115</td>\n",
       "    </tr>\n",
       "    <tr>\n",
       "      <th>1</th>\n",
       "      <td>Decatur Elementary School</td>\n",
       "      <td>47.685413</td>\n",
       "      <td>-122.283672</td>\n",
       "      <td>7711 43rd Ave Ne  Seattle, WA 98115</td>\n",
       "    </tr>\n",
       "    <tr>\n",
       "      <th>2</th>\n",
       "      <td>Stella Schola</td>\n",
       "      <td>47.671574</td>\n",
       "      <td>-122.160037</td>\n",
       "      <td>13505 Ne 75th Street  Redmond, WA 98052</td>\n",
       "    </tr>\n",
       "    <tr>\n",
       "      <th>3</th>\n",
       "      <td>Tesla Stem High School</td>\n",
       "      <td>47.645720</td>\n",
       "      <td>-122.035450</td>\n",
       "      <td>4301 228th Ave Ne  Redmond, WA 98053</td>\n",
       "    </tr>\n",
       "    <tr>\n",
       "      <th>4</th>\n",
       "      <td>International Community School</td>\n",
       "      <td>47.664105</td>\n",
       "      <td>-122.191210</td>\n",
       "      <td>11133 Ne 65th St  Kirkland, WA 98033</td>\n",
       "    </tr>\n",
       "  </tbody>\n",
       "</table>\n",
       "</div>"
      ],
      "text/plain": [
       "                             name        lat        long  \\\n",
       "0      Cascadia Elementary School  47.695213 -122.337156   \n",
       "1       Decatur Elementary School  47.685413 -122.283672   \n",
       "2                   Stella Schola  47.671574 -122.160037   \n",
       "3          Tesla Stem High School  47.645720 -122.035450   \n",
       "4  International Community School  47.664105 -122.191210   \n",
       "\n",
       "                                        ad  \n",
       "0    1700 N 90th Street  Seattle, WA 98115  \n",
       "1      7711 43rd Ave Ne  Seattle, WA 98115  \n",
       "2  13505 Ne 75th Street  Redmond, WA 98052  \n",
       "3     4301 228th Ave Ne  Redmond, WA 98053  \n",
       "4     11133 Ne 65th St  Kirkland, WA 98033  "
      ]
     },
     "execution_count": 27,
     "metadata": {},
     "output_type": "execute_result"
    }
   ],
   "source": [
    "# import py file\n",
    "import scraper1\n",
    "\n",
    "# call function that scrapes school data\n",
    "school_coordinates = scraper1.top_schools()\n",
    "school_coordinates.head()"
   ]
  },
  {
   "cell_type": "code",
   "execution_count": 28,
   "metadata": {},
   "outputs": [],
   "source": [
    "# house distance to a top school\n",
    "from geopy.distance import geodesic\n",
    "\n",
    "def get_distance(lat, long):\n",
    "    miles = []\n",
    "    for i in range(school_coordinates.shape[0]):\n",
    "        school = (school_coordinates.loc[i]['lat'], school_coordinates.loc[i]['long'])\n",
    "        miles.append(geodesic((lat,long), school).miles)\n",
    "    return min(miles)"
   ]
  },
  {
   "cell_type": "code",
   "execution_count": 29,
   "metadata": {},
   "outputs": [],
   "source": [
    "# this takes the longest time to run\n",
    "for i in range(df.shape[0]):\n",
    "    lat = df.loc[i]['lat']\n",
    "    long = df.loc[i]['long']\n",
    "    df.at[i, 'top_school_distance'] = get_distance(lat, long)\n",
    "    "
   ]
  },
  {
   "cell_type": "code",
   "execution_count": 30,
   "metadata": {},
   "outputs": [
    {
     "name": "stderr",
     "output_type": "stream",
     "text": [
      "'c' argument looks like a single numeric RGB or RGBA sequence, which should be avoided as value-mapping will have precedence in case its length matches with 'x' & 'y'.  Please use a 2-D array with a single row if you really want to specify the same RGB or RGBA value for all points.\n"
     ]
    },
    {
     "data": {
      "image/png": "[encoded data removed]",
      "text/plain": [
       "<Figure size 648x576 with 1 Axes>"
      ]
     },
     "metadata": {},
     "output_type": "display_data"
    }
   ],
   "source": [
    "df.plot.scatter(x='top_school_distance', y='price');\n",
    "sns.regplot(data=df, x='top_school_distance', y='price');\n",
    "plt.title('Distance to a Top School`s Effect Housing Price');\n",
    "plt.xlabel('Top School Distance');\n",
    "plt.ylabel('Price');"
   ]
  },
  {
   "cell_type": "code",
   "execution_count": 31,
   "metadata": {},
   "outputs": [],
   "source": [
    "# Feature that indicates houses that are far from top schools (highest 25%)\n",
    "df['far_school'] = np.where(df['top_school_distance'] > df['top_school_distance'].quantile(q=.75), 1, 0)"
   ]
  },
  {
   "cell_type": "markdown",
   "metadata": {},
   "source": [
    "<br>"
   ]
  },
  {
   "cell_type": "markdown",
   "metadata": {},
   "source": [
    "## Model 1: Multiple Linear Regression\n",
    "This was the first model I created. I used features that had the highest correlations. The r-squared value of the model is 0.69 meaning this multi-linear regression model explains 69% of the variance in our target."
   ]
  },
  {
   "cell_type": "code",
   "execution_count": 32,
   "metadata": {},
   "outputs": [],
   "source": [
    "model = ols(formula='price~bedrooms+bathrooms+lat+basement+top_school_distance+sqft_living+grade+waterfront+view+yr_built+yr_renovated+sqft_living15', data=df)"
   ]
  },
  {
   "cell_type": "code",
   "execution_count": 33,
   "metadata": {},
   "outputs": [
    {
     "data": {
      "text/plain": [
       "0.6779617640213843"
      ]
     },
     "execution_count": 33,
     "metadata": {},
     "output_type": "execute_result"
    }
   ],
   "source": [
    "X = df[['bedrooms', 'bathrooms', 'lat', 'sqft_living', 'basement', 'top_school_distance', 'grade', 'waterfront', 'view', 'yr_built', 'yr_renovated', 'sqft_living15']] #predictors as x\n",
    "y = df['price'] # target as y\n",
    "\n",
    "X_train, X_test, y_train, y_test = train_test_split(X, y,               # Pass in our X and y\n",
    "                                                    random_state=33,    # Abritary select a random_state \n",
    "                                                    test_size=.2        # Split test size to be 20% of full data.\n",
    "                                                   )\n",
    "\n",
    "# Instantiate StandardScaler object\n",
    "ss = StandardScaler()\n",
    "\n",
    "# # Fit and Transform the training data.\n",
    "X_train_transformed = ss.fit_transform(X_train)\n",
    "\n",
    "# # Only transform the test data.\n",
    "X_test_transformed = ss.transform(X_test)\n",
    "\n",
    "# # Instantiate the Linear Regression Object.\n",
    "model = LinearRegression()\n",
    "\n",
    "# # Fit the model to the transformed X_train, and the y_train.\n",
    "model.fit(X_train_transformed, y_train)\n",
    "\n",
    "# # Score the model based on the transformed X_test and the y_test.\n",
    "model.score(X_test_transformed, y_test)"
   ]
  },
  {
   "cell_type": "code",
   "execution_count": 34,
   "metadata": {},
   "outputs": [],
   "source": [
    "y_train_pred = model.predict(X_train)"
   ]
  },
  {
   "cell_type": "code",
   "execution_count": 35,
   "metadata": {},
   "outputs": [],
   "source": [
    "train_rmse = np.sqrt(metrics.mean_squared_error(y_train, y_train_pred))"
   ]
  },
  {
   "cell_type": "code",
   "execution_count": 36,
   "metadata": {},
   "outputs": [],
   "source": [
    "y_test_pred = model.predict(X_test)"
   ]
  },
  {
   "cell_type": "code",
   "execution_count": 37,
   "metadata": {},
   "outputs": [],
   "source": [
    "test_rmse = np.sqrt(metrics.mean_squared_error(y_test, y_test_pred))"
   ]
  },
  {
   "cell_type": "code",
   "execution_count": 38,
   "metadata": {},
   "outputs": [
    {
     "name": "stdout",
     "output_type": "stream",
     "text": [
      "Training Root Mean Squared Error: 255500196.14599362 \n",
      "Testing Root Mean Squared Error: 256131706.6504368\n"
     ]
    }
   ],
   "source": [
    "print('Training Root Mean Squared Error:' , train_rmse, '\\nTesting Root Mean Squared Error:' , test_rmse)"
   ]
  },
  {
   "cell_type": "markdown",
   "metadata": {},
   "source": [
    "## Train-Test Split"
   ]
  },
  {
   "cell_type": "code",
   "execution_count": 39,
   "metadata": {},
   "outputs": [],
   "source": [
    "df_features = list(df.columns)\n",
    "df_features.remove('price')\n",
    "df_features = df[df_features]\n",
    "target = df['price']"
   ]
  },
  {
   "cell_type": "code",
   "execution_count": 40,
   "metadata": {},
   "outputs": [],
   "source": [
    "# Abritary selected a random_state and split test size to be 20% of full data.\n",
    "X_train, X_test, y_train, y_test = train_test_split(df_features, target, \n",
    "                                                    random_state=33,    \n",
    "                                                    test_size=0.2  \n",
    "                                                   )\n"
   ]
  },
  {
   "cell_type": "markdown",
   "metadata": {},
   "source": [
    "## Scale Train and Test Set"
   ]
  },
  {
   "cell_type": "code",
   "execution_count": 41,
   "metadata": {},
   "outputs": [],
   "source": [
    "scaler = StandardScaler()\n",
    "\n",
    "# fit the scaler to the training data\n",
    "scaler.fit(X_train)\n",
    "\n",
    "#transform the training data\n",
    "X_train = pd.DataFrame(data=scaler.transform(X_train), columns=df_features.columns)\n",
    "\n",
    "#transform the testing dat\n",
    "X_test = pd.DataFrame(data=scaler.transform(X_test), columns=df_features.columns)"
   ]
  },
  {
   "cell_type": "markdown",
   "metadata": {},
   "source": [
    "<br>"
   ]
  },
  {
   "cell_type": "markdown",
   "metadata": {},
   "source": [
    "## Model 2: Predicting the Log of Price\n",
    "I decided to take the log of the price for the second model to train the model on numbers with a smaller range. "
   ]
  },
  {
   "cell_type": "code",
   "execution_count": 42,
   "metadata": {},
   "outputs": [],
   "source": [
    "#take the natural log of the target variable\n",
    "y_log = np.log(y_train)"
   ]
  },
  {
   "cell_type": "code",
   "execution_count": 43,
   "metadata": {},
   "outputs": [],
   "source": [
    "#instantiate a linear regression object\n",
    "lm_log = LinearRegression()\n",
    "\n",
    "#fit the linear regression to the data\n",
    "lm_log = lm_log.fit(X_train, y_log)\n",
    "\n",
    "log_train_pred = lm_log.predict(X_train)"
   ]
  },
  {
   "cell_type": "code",
   "execution_count": 44,
   "metadata": {},
   "outputs": [],
   "source": [
    "#log_train_pred the predictions to get them on the same original scale \n",
    "y_train_pred = np.exp(log_train_pred)"
   ]
  },
  {
   "cell_type": "code",
   "execution_count": 45,
   "metadata": {},
   "outputs": [],
   "source": [
    "log_train_rmse = np.sqrt(metrics.mean_squared_error(y_train, log_train_pred))"
   ]
  },
  {
   "cell_type": "code",
   "execution_count": 46,
   "metadata": {},
   "outputs": [
    {
     "name": "stdout",
     "output_type": "stream",
     "text": [
      "Training Root Mean Squared Error: 656635.3048918665 \n",
      "Testing Root Mean Squared Error: 197396.08697142155\n"
     ]
    }
   ],
   "source": [
    "log_test_pred = lm_log.predict(X_test)\n",
    "#exponentiate the predictions to get them on the same original scale \n",
    "log_test_pred = np.exp(log_test_pred)\n",
    "log_test_rmse = np.sqrt(metrics.mean_squared_error(y_test, log_test_pred))\n",
    "\n",
    "\n",
    "print('Training Root Mean Squared Error:' , log_train_rmse, '\\nTesting Root Mean Squared Error:' , log_test_rmse)"
   ]
  },
  {
   "cell_type": "markdown",
   "metadata": {},
   "source": [
    "<br>"
   ]
  },
  {
   "cell_type": "markdown",
   "metadata": {},
   "source": [
    "## Model 3: F-Test Feature Selection\n",
    "I used a F-Test for my third model because it looks for the significance of each feature, and I was able to test it with different amounts of predictor variables. "
   ]
  },
  {
   "cell_type": "code",
   "execution_count": 47,
   "metadata": {},
   "outputs": [
    {
     "data": {
      "text/plain": [
       "(13832, 28)"
      ]
     },
     "execution_count": 47,
     "metadata": {},
     "output_type": "execute_result"
    }
   ],
   "source": [
    "# checking shape for max columns\n",
    "X_train.shape"
   ]
  },
  {
   "cell_type": "code",
   "execution_count": 48,
   "metadata": {},
   "outputs": [
    {
     "data": {
      "text/plain": [
       "SelectKBest(k=22, score_func=<function f_regression at 0x7ff3f4359bf8>)"
      ]
     },
     "execution_count": 48,
     "metadata": {},
     "output_type": "execute_result"
    }
   ],
   "source": [
    "from sklearn.feature_selection import SelectKBest, f_regression,mutual_info_regression\n",
    "\n",
    "selector = SelectKBest(f_regression, k=22)\n",
    "\n",
    "selector.fit(X_train, y_train)"
   ]
  },
  {
   "cell_type": "code",
   "execution_count": 49,
   "metadata": {},
   "outputs": [],
   "source": [
    "selected_columns = X_train.columns[selector.get_support()]\n",
    "removed_columns = X_train.columns[~selector.get_support()]"
   ]
  },
  {
   "cell_type": "code",
   "execution_count": 50,
   "metadata": {},
   "outputs": [
    {
     "data": {
      "text/plain": [
       "['bedrooms',\n",
       " 'bathrooms',\n",
       " 'sqft_living',\n",
       " 'sqft_lot',\n",
       " 'floors',\n",
       " 'waterfront',\n",
       " 'view',\n",
       " 'condition',\n",
       " 'grade',\n",
       " 'sqft_above',\n",
       " 'sqft_basement',\n",
       " 'yr_built',\n",
       " 'yr_renovated',\n",
       " 'zipcode',\n",
       " 'lat',\n",
       " 'sqft_living15',\n",
       " 'sqft_lot15',\n",
       " 'years_since_update',\n",
       " 'basement',\n",
       " 'q2',\n",
       " 'top_school_distance',\n",
       " 'far_school']"
      ]
     },
     "execution_count": 50,
     "metadata": {},
     "output_type": "execute_result"
    }
   ],
   "source": [
    "list(selected_columns)"
   ]
  },
  {
   "cell_type": "code",
   "execution_count": 51,
   "metadata": {},
   "outputs": [],
   "source": [
    "from sklearn import linear_model\n",
    "from sklearn.feature_selection import RFECV"
   ]
  },
  {
   "cell_type": "code",
   "execution_count": 52,
   "metadata": {},
   "outputs": [],
   "source": [
    "ols = linear_model.LinearRegression()"
   ]
  },
  {
   "cell_type": "code",
   "execution_count": 53,
   "metadata": {},
   "outputs": [
    {
     "data": {
      "text/plain": [
       "RFECV(cv=5,\n",
       "      estimator=LinearRegression(copy_X=True, fit_intercept=True, n_jobs=None,\n",
       "                                 normalize=False),\n",
       "      min_features_to_select=1, n_jobs=-1, scoring='neg_mean_squared_error',\n",
       "      step=1, verbose=0)"
      ]
     },
     "execution_count": 53,
     "metadata": {},
     "output_type": "execute_result"
    }
   ],
   "source": [
    "# Create recursive feature eliminator that scores features by mean squared errors\n",
    "selector = RFECV(estimator=ols, step=1, cv=5, scoring='neg_mean_squared_error', n_jobs=-1) # running on different cores\n",
    "\n",
    "# Fit recursive feature eliminator \n",
    "selector.fit(X_train, y_train)"
   ]
  },
  {
   "cell_type": "code",
   "execution_count": 54,
   "metadata": {},
   "outputs": [],
   "source": [
    "selected_rfe = X_train.columns[selector.support_]\n",
    "removed_rfe = X_train.columns[~selector.support_]"
   ]
  },
  {
   "cell_type": "code",
   "execution_count": 55,
   "metadata": {},
   "outputs": [
    {
     "name": "stdout",
     "output_type": "stream",
     "text": [
      "Training Root Mean Squared Error: 199424.42598529515\n",
      "Testing Root Mean Squared Error: 209524.67254422285\n"
     ]
    }
   ],
   "source": [
    "#instantiate a linear regression object\n",
    "lm_rfe = LinearRegression()\n",
    "\n",
    "#fit the linear regression to the data\n",
    "lm_rfe = lm_rfe.fit(X_train[selected_rfe], y_train)\n",
    "\n",
    "y_rfe = lm_rfe.predict(X_train[selected_rfe])\n",
    "\n",
    "\n",
    "trainRFE_rmse = np.sqrt(metrics.mean_squared_error(y_train, y_rfe))\n",
    "\n",
    "\n",
    "print('Training Root Mean Squared Error:' , trainRFE_rmse)\n",
    "\n",
    "y_pred_rfe = lm_rfe.predict(X_test[selected_rfe])\n",
    "\n",
    "testRFE_rmse = np.sqrt(metrics.mean_squared_error(y_test, y_pred_rfe))\n",
    "\n",
    "print('Testing Root Mean Squared Error:' , testRFE_rmse)\n"
   ]
  },
  {
   "cell_type": "markdown",
   "metadata": {},
   "source": [
    "## Comparing the models"
   ]
  },
  {
   "cell_type": "code",
   "execution_count": 56,
   "metadata": {},
   "outputs": [
    {
     "name": "stdout",
     "output_type": "stream",
     "text": [
      "RMSE\n",
      "MLR Train: 255500196.14599362    MLR Test: 256131706.6504368\n",
      "LOG Train: 656635.3048918665     LOG Test: 197396.08697142155\n",
      "F-TEST Train: 199424.42598529515 F-TEST Test: 209524.67254422285\n"
     ]
    }
   ],
   "source": [
    "print('RMSE')\n",
    "print('MLR Train:', train_rmse, '   MLR Test:', test_rmse)\n",
    "print('LOG Train:', log_train_rmse, '    LOG Test:', log_test_rmse)\n",
    "print('F-TEST Train:', trainRFE_rmse, 'F-TEST Test:', testRFE_rmse)"
   ]
  },
  {
   "cell_type": "markdown",
   "metadata": {},
   "source": [
    "<br>"
   ]
  },
  {
   "cell_type": "markdown",
   "metadata": {},
   "source": [
    "## Final Model\n",
    "Even though the LOG model have the lowest rsme, I choose the F-Test model because the training rmse and the testing rmse were close."
   ]
  },
  {
   "cell_type": "code",
   "execution_count": 57,
   "metadata": {},
   "outputs": [
    {
     "data": {
      "text/plain": [
       "(17290, 29)"
      ]
     },
     "execution_count": 57,
     "metadata": {},
     "output_type": "execute_result"
    }
   ],
   "source": [
    "df.shape"
   ]
  },
  {
   "cell_type": "code",
   "execution_count": 58,
   "metadata": {},
   "outputs": [
    {
     "data": {
      "text/html": [
       "<div>\n",
       "<style scoped>\n",
       "    .dataframe tbody tr th:only-of-type {\n",
       "        vertical-align: middle;\n",
       "    }\n",
       "\n",
       "    .dataframe tbody tr th {\n",
       "        vertical-align: top;\n",
       "    }\n",
       "\n",
       "    .dataframe thead th {\n",
       "        text-align: right;\n",
       "    }\n",
       "</style>\n",
       "<table border=\"1\" class=\"dataframe\">\n",
       "  <thead>\n",
       "    <tr style=\"text-align: right;\">\n",
       "      <th></th>\n",
       "      <th>bedrooms</th>\n",
       "      <th>bathrooms</th>\n",
       "      <th>sqft_living</th>\n",
       "      <th>sqft_lot</th>\n",
       "      <th>floors</th>\n",
       "      <th>waterfront</th>\n",
       "      <th>view</th>\n",
       "      <th>condition</th>\n",
       "      <th>grade</th>\n",
       "      <th>sqft_above</th>\n",
       "      <th>sqft_basement</th>\n",
       "      <th>yr_built</th>\n",
       "      <th>yr_renovated</th>\n",
       "      <th>zipcode</th>\n",
       "      <th>lat</th>\n",
       "      <th>long</th>\n",
       "      <th>sqft_living15</th>\n",
       "      <th>sqft_lot15</th>\n",
       "      <th>year_sold</th>\n",
       "      <th>month_sold</th>\n",
       "      <th>day_sold</th>\n",
       "      <th>years_since_update</th>\n",
       "      <th>basement</th>\n",
       "      <th>q1</th>\n",
       "      <th>q2</th>\n",
       "      <th>q3</th>\n",
       "      <th>top_school_distance</th>\n",
       "      <th>far_school</th>\n",
       "    </tr>\n",
       "  </thead>\n",
       "  <tbody>\n",
       "    <tr>\n",
       "      <th>0</th>\n",
       "      <td>4</td>\n",
       "      <td>2.25</td>\n",
       "      <td>2070</td>\n",
       "      <td>8893</td>\n",
       "      <td>2.0</td>\n",
       "      <td>0</td>\n",
       "      <td>0</td>\n",
       "      <td>4</td>\n",
       "      <td>8</td>\n",
       "      <td>2070</td>\n",
       "      <td>0</td>\n",
       "      <td>1986</td>\n",
       "      <td>1986</td>\n",
       "      <td>98058</td>\n",
       "      <td>47.4388</td>\n",
       "      <td>-122.162</td>\n",
       "      <td>2390</td>\n",
       "      <td>7700</td>\n",
       "      <td>2014</td>\n",
       "      <td>10</td>\n",
       "      <td>6</td>\n",
       "      <td>34</td>\n",
       "      <td>0</td>\n",
       "      <td>0</td>\n",
       "      <td>0</td>\n",
       "      <td>0</td>\n",
       "      <td>7.169534</td>\n",
       "      <td>1</td>\n",
       "    </tr>\n",
       "    <tr>\n",
       "      <th>1</th>\n",
       "      <td>5</td>\n",
       "      <td>3.00</td>\n",
       "      <td>2900</td>\n",
       "      <td>6730</td>\n",
       "      <td>1.0</td>\n",
       "      <td>0</td>\n",
       "      <td>0</td>\n",
       "      <td>5</td>\n",
       "      <td>8</td>\n",
       "      <td>1830</td>\n",
       "      <td>1070</td>\n",
       "      <td>1977</td>\n",
       "      <td>1977</td>\n",
       "      <td>98115</td>\n",
       "      <td>47.6784</td>\n",
       "      <td>-122.285</td>\n",
       "      <td>2370</td>\n",
       "      <td>6283</td>\n",
       "      <td>2014</td>\n",
       "      <td>8</td>\n",
       "      <td>21</td>\n",
       "      <td>43</td>\n",
       "      <td>1</td>\n",
       "      <td>0</td>\n",
       "      <td>0</td>\n",
       "      <td>1</td>\n",
       "      <td>0.488451</td>\n",
       "      <td>0</td>\n",
       "    </tr>\n",
       "    <tr>\n",
       "      <th>2</th>\n",
       "      <td>4</td>\n",
       "      <td>2.50</td>\n",
       "      <td>3770</td>\n",
       "      <td>10893</td>\n",
       "      <td>2.0</td>\n",
       "      <td>0</td>\n",
       "      <td>2</td>\n",
       "      <td>3</td>\n",
       "      <td>11</td>\n",
       "      <td>3770</td>\n",
       "      <td>0</td>\n",
       "      <td>1997</td>\n",
       "      <td>1997</td>\n",
       "      <td>98006</td>\n",
       "      <td>47.5646</td>\n",
       "      <td>-122.129</td>\n",
       "      <td>3710</td>\n",
       "      <td>9685</td>\n",
       "      <td>2014</td>\n",
       "      <td>8</td>\n",
       "      <td>15</td>\n",
       "      <td>23</td>\n",
       "      <td>0</td>\n",
       "      <td>0</td>\n",
       "      <td>0</td>\n",
       "      <td>1</td>\n",
       "      <td>1.069469</td>\n",
       "      <td>0</td>\n",
       "    </tr>\n",
       "    <tr>\n",
       "      <th>3</th>\n",
       "      <td>3</td>\n",
       "      <td>3.50</td>\n",
       "      <td>4560</td>\n",
       "      <td>14608</td>\n",
       "      <td>2.0</td>\n",
       "      <td>0</td>\n",
       "      <td>2</td>\n",
       "      <td>3</td>\n",
       "      <td>12</td>\n",
       "      <td>4560</td>\n",
       "      <td>0</td>\n",
       "      <td>1990</td>\n",
       "      <td>1990</td>\n",
       "      <td>98034</td>\n",
       "      <td>47.6995</td>\n",
       "      <td>-122.228</td>\n",
       "      <td>4050</td>\n",
       "      <td>14226</td>\n",
       "      <td>2015</td>\n",
       "      <td>3</td>\n",
       "      <td>31</td>\n",
       "      <td>30</td>\n",
       "      <td>0</td>\n",
       "      <td>1</td>\n",
       "      <td>0</td>\n",
       "      <td>0</td>\n",
       "      <td>1.168206</td>\n",
       "      <td>0</td>\n",
       "    </tr>\n",
       "    <tr>\n",
       "      <th>4</th>\n",
       "      <td>3</td>\n",
       "      <td>2.50</td>\n",
       "      <td>2550</td>\n",
       "      <td>5376</td>\n",
       "      <td>2.0</td>\n",
       "      <td>0</td>\n",
       "      <td>0</td>\n",
       "      <td>3</td>\n",
       "      <td>9</td>\n",
       "      <td>2550</td>\n",
       "      <td>0</td>\n",
       "      <td>2004</td>\n",
       "      <td>2004</td>\n",
       "      <td>98052</td>\n",
       "      <td>47.6647</td>\n",
       "      <td>-122.083</td>\n",
       "      <td>2250</td>\n",
       "      <td>4050</td>\n",
       "      <td>2014</td>\n",
       "      <td>7</td>\n",
       "      <td>14</td>\n",
       "      <td>16</td>\n",
       "      <td>0</td>\n",
       "      <td>0</td>\n",
       "      <td>0</td>\n",
       "      <td>1</td>\n",
       "      <td>1.746264</td>\n",
       "      <td>0</td>\n",
       "    </tr>\n",
       "    <tr>\n",
       "      <th>...</th>\n",
       "      <td>...</td>\n",
       "      <td>...</td>\n",
       "      <td>...</td>\n",
       "      <td>...</td>\n",
       "      <td>...</td>\n",
       "      <td>...</td>\n",
       "      <td>...</td>\n",
       "      <td>...</td>\n",
       "      <td>...</td>\n",
       "      <td>...</td>\n",
       "      <td>...</td>\n",
       "      <td>...</td>\n",
       "      <td>...</td>\n",
       "      <td>...</td>\n",
       "      <td>...</td>\n",
       "      <td>...</td>\n",
       "      <td>...</td>\n",
       "      <td>...</td>\n",
       "      <td>...</td>\n",
       "      <td>...</td>\n",
       "      <td>...</td>\n",
       "      <td>...</td>\n",
       "      <td>...</td>\n",
       "      <td>...</td>\n",
       "      <td>...</td>\n",
       "      <td>...</td>\n",
       "      <td>...</td>\n",
       "      <td>...</td>\n",
       "    </tr>\n",
       "    <tr>\n",
       "      <th>17285</th>\n",
       "      <td>5</td>\n",
       "      <td>2.50</td>\n",
       "      <td>3240</td>\n",
       "      <td>9960</td>\n",
       "      <td>1.0</td>\n",
       "      <td>0</td>\n",
       "      <td>1</td>\n",
       "      <td>3</td>\n",
       "      <td>8</td>\n",
       "      <td>2020</td>\n",
       "      <td>1220</td>\n",
       "      <td>1958</td>\n",
       "      <td>1958</td>\n",
       "      <td>98008</td>\n",
       "      <td>47.5858</td>\n",
       "      <td>-122.112</td>\n",
       "      <td>2730</td>\n",
       "      <td>10400</td>\n",
       "      <td>2015</td>\n",
       "      <td>3</td>\n",
       "      <td>3</td>\n",
       "      <td>62</td>\n",
       "      <td>1</td>\n",
       "      <td>1</td>\n",
       "      <td>0</td>\n",
       "      <td>0</td>\n",
       "      <td>0.469082</td>\n",
       "      <td>0</td>\n",
       "    </tr>\n",
       "    <tr>\n",
       "      <th>17286</th>\n",
       "      <td>2</td>\n",
       "      <td>1.75</td>\n",
       "      <td>1300</td>\n",
       "      <td>4000</td>\n",
       "      <td>2.0</td>\n",
       "      <td>0</td>\n",
       "      <td>0</td>\n",
       "      <td>3</td>\n",
       "      <td>7</td>\n",
       "      <td>1300</td>\n",
       "      <td>0</td>\n",
       "      <td>1948</td>\n",
       "      <td>1948</td>\n",
       "      <td>98105</td>\n",
       "      <td>47.6687</td>\n",
       "      <td>-122.288</td>\n",
       "      <td>1350</td>\n",
       "      <td>4013</td>\n",
       "      <td>2014</td>\n",
       "      <td>5</td>\n",
       "      <td>20</td>\n",
       "      <td>72</td>\n",
       "      <td>0</td>\n",
       "      <td>0</td>\n",
       "      <td>1</td>\n",
       "      <td>0</td>\n",
       "      <td>1.172172</td>\n",
       "      <td>0</td>\n",
       "    </tr>\n",
       "    <tr>\n",
       "      <th>17287</th>\n",
       "      <td>3</td>\n",
       "      <td>1.00</td>\n",
       "      <td>1050</td>\n",
       "      <td>9876</td>\n",
       "      <td>1.0</td>\n",
       "      <td>0</td>\n",
       "      <td>0</td>\n",
       "      <td>3</td>\n",
       "      <td>7</td>\n",
       "      <td>1050</td>\n",
       "      <td>0</td>\n",
       "      <td>1953</td>\n",
       "      <td>1953</td>\n",
       "      <td>98028</td>\n",
       "      <td>47.7635</td>\n",
       "      <td>-122.262</td>\n",
       "      <td>1760</td>\n",
       "      <td>9403</td>\n",
       "      <td>2014</td>\n",
       "      <td>5</td>\n",
       "      <td>14</td>\n",
       "      <td>67</td>\n",
       "      <td>0</td>\n",
       "      <td>0</td>\n",
       "      <td>1</td>\n",
       "      <td>0</td>\n",
       "      <td>3.571476</td>\n",
       "      <td>0</td>\n",
       "    </tr>\n",
       "    <tr>\n",
       "      <th>17288</th>\n",
       "      <td>3</td>\n",
       "      <td>1.50</td>\n",
       "      <td>1900</td>\n",
       "      <td>43186</td>\n",
       "      <td>1.5</td>\n",
       "      <td>0</td>\n",
       "      <td>0</td>\n",
       "      <td>4</td>\n",
       "      <td>7</td>\n",
       "      <td>1300</td>\n",
       "      <td>600</td>\n",
       "      <td>1971</td>\n",
       "      <td>1971</td>\n",
       "      <td>98038</td>\n",
       "      <td>47.4199</td>\n",
       "      <td>-121.990</td>\n",
       "      <td>2080</td>\n",
       "      <td>108028</td>\n",
       "      <td>2014</td>\n",
       "      <td>12</td>\n",
       "      <td>4</td>\n",
       "      <td>49</td>\n",
       "      <td>1</td>\n",
       "      <td>0</td>\n",
       "      <td>0</td>\n",
       "      <td>0</td>\n",
       "      <td>7.313081</td>\n",
       "      <td>1</td>\n",
       "    </tr>\n",
       "    <tr>\n",
       "      <th>17289</th>\n",
       "      <td>3</td>\n",
       "      <td>1.50</td>\n",
       "      <td>1330</td>\n",
       "      <td>6768</td>\n",
       "      <td>1.0</td>\n",
       "      <td>0</td>\n",
       "      <td>0</td>\n",
       "      <td>4</td>\n",
       "      <td>7</td>\n",
       "      <td>1330</td>\n",
       "      <td>0</td>\n",
       "      <td>1952</td>\n",
       "      <td>1952</td>\n",
       "      <td>98155</td>\n",
       "      <td>47.7366</td>\n",
       "      <td>-122.319</td>\n",
       "      <td>1320</td>\n",
       "      <td>6910</td>\n",
       "      <td>2015</td>\n",
       "      <td>1</td>\n",
       "      <td>16</td>\n",
       "      <td>68</td>\n",
       "      <td>0</td>\n",
       "      <td>1</td>\n",
       "      <td>0</td>\n",
       "      <td>0</td>\n",
       "      <td>2.981970</td>\n",
       "      <td>0</td>\n",
       "    </tr>\n",
       "  </tbody>\n",
       "</table>\n",
       "<p>17290 rows × 28 columns</p>\n",
       "</div>"
      ],
      "text/plain": [
       "       bedrooms  bathrooms  sqft_living  sqft_lot  floors  waterfront  view  \\\n",
       "0             4       2.25         2070      8893     2.0           0     0   \n",
       "1             5       3.00         2900      6730     1.0           0     0   \n",
       "2             4       2.50         3770     10893     2.0           0     2   \n",
       "3             3       3.50         4560     14608     2.0           0     2   \n",
       "4             3       2.50         2550      5376     2.0           0     0   \n",
       "...         ...        ...          ...       ...     ...         ...   ...   \n",
       "17285         5       2.50         3240      9960     1.0           0     1   \n",
       "17286         2       1.75         1300      4000     2.0           0     0   \n",
       "17287         3       1.00         1050      9876     1.0           0     0   \n",
       "17288         3       1.50         1900     43186     1.5           0     0   \n",
       "17289         3       1.50         1330      6768     1.0           0     0   \n",
       "\n",
       "       condition  grade  sqft_above  sqft_basement  yr_built  yr_renovated  \\\n",
       "0              4      8        2070              0      1986          1986   \n",
       "1              5      8        1830           1070      1977          1977   \n",
       "2              3     11        3770              0      1997          1997   \n",
       "3              3     12        4560              0      1990          1990   \n",
       "4              3      9        2550              0      2004          2004   \n",
       "...          ...    ...         ...            ...       ...           ...   \n",
       "17285          3      8        2020           1220      1958          1958   \n",
       "17286          3      7        1300              0      1948          1948   \n",
       "17287          3      7        1050              0      1953          1953   \n",
       "17288          4      7        1300            600      1971          1971   \n",
       "17289          4      7        1330              0      1952          1952   \n",
       "\n",
       "       zipcode      lat     long  sqft_living15  sqft_lot15  year_sold  \\\n",
       "0        98058  47.4388 -122.162           2390        7700       2014   \n",
       "1        98115  47.6784 -122.285           2370        6283       2014   \n",
       "2        98006  47.5646 -122.129           3710        9685       2014   \n",
       "3        98034  47.6995 -122.228           4050       14226       2015   \n",
       "4        98052  47.6647 -122.083           2250        4050       2014   \n",
       "...        ...      ...      ...            ...         ...        ...   \n",
       "17285    98008  47.5858 -122.112           2730       10400       2015   \n",
       "17286    98105  47.6687 -122.288           1350        4013       2014   \n",
       "17287    98028  47.7635 -122.262           1760        9403       2014   \n",
       "17288    98038  47.4199 -121.990           2080      108028       2014   \n",
       "17289    98155  47.7366 -122.319           1320        6910       2015   \n",
       "\n",
       "       month_sold  day_sold  years_since_update  basement  q1  q2  q3  \\\n",
       "0              10         6                  34         0   0   0   0   \n",
       "1               8        21                  43         1   0   0   1   \n",
       "2               8        15                  23         0   0   0   1   \n",
       "3               3        31                  30         0   1   0   0   \n",
       "4               7        14                  16         0   0   0   1   \n",
       "...           ...       ...                 ...       ...  ..  ..  ..   \n",
       "17285           3         3                  62         1   1   0   0   \n",
       "17286           5        20                  72         0   0   1   0   \n",
       "17287           5        14                  67         0   0   1   0   \n",
       "17288          12         4                  49         1   0   0   0   \n",
       "17289           1        16                  68         0   1   0   0   \n",
       "\n",
       "       top_school_distance  far_school  \n",
       "0                 7.169534           1  \n",
       "1                 0.488451           0  \n",
       "2                 1.069469           0  \n",
       "3                 1.168206           0  \n",
       "4                 1.746264           0  \n",
       "...                    ...         ...  \n",
       "17285             0.469082           0  \n",
       "17286             1.172172           0  \n",
       "17287             3.571476           0  \n",
       "17288             7.313081           1  \n",
       "17289             2.981970           0  \n",
       "\n",
       "[17290 rows x 28 columns]"
      ]
     },
     "execution_count": 58,
     "metadata": {},
     "output_type": "execute_result"
    }
   ],
   "source": [
    "df_features"
   ]
  },
  {
   "cell_type": "code",
   "execution_count": 59,
   "metadata": {},
   "outputs": [],
   "source": [
    "final_df = df.drop('price', axis=1)"
   ]
  },
  {
   "cell_type": "code",
   "execution_count": 60,
   "metadata": {},
   "outputs": [
    {
     "data": {
      "text/plain": [
       "(17290, 28)"
      ]
     },
     "execution_count": 60,
     "metadata": {},
     "output_type": "execute_result"
    }
   ],
   "source": [
    "final_df.shape"
   ]
  },
  {
   "cell_type": "code",
   "execution_count": 61,
   "metadata": {},
   "outputs": [],
   "source": [
    "scaler1 = StandardScaler()\n",
    "\n",
    "#fit and transform the  data\n",
    "final_df = pd.DataFrame(data=scaler1.fit_transform(final_df), columns=final_df.columns)"
   ]
  },
  {
   "cell_type": "code",
   "execution_count": 62,
   "metadata": {},
   "outputs": [],
   "source": [
    "selector = SelectKBest(f_regression, k=22)"
   ]
  },
  {
   "cell_type": "code",
   "execution_count": 63,
   "metadata": {},
   "outputs": [],
   "source": [
    "target = pd.DataFrame(target)"
   ]
  },
  {
   "cell_type": "code",
   "execution_count": 64,
   "metadata": {},
   "outputs": [
    {
     "name": "stderr",
     "output_type": "stream",
     "text": [
      "/opt/anaconda3/envs/learn-env/lib/python3.6/site-packages/sklearn/utils/validation.py:724: DataConversionWarning: A column-vector y was passed when a 1d array was expected. Please change the shape of y to (n_samples, ), for example using ravel().\n",
      "  y = column_or_1d(y, warn=True)\n"
     ]
    },
    {
     "data": {
      "text/plain": [
       "SelectKBest(k=22, score_func=<function f_regression at 0x7ff3f4359bf8>)"
      ]
     },
     "execution_count": 64,
     "metadata": {},
     "output_type": "execute_result"
    }
   ],
   "source": [
    "selector.fit(final_df, target)"
   ]
  },
  {
   "cell_type": "code",
   "execution_count": 65,
   "metadata": {},
   "outputs": [
    {
     "data": {
      "text/plain": [
       "(17290, 28)"
      ]
     },
     "execution_count": 65,
     "metadata": {},
     "output_type": "execute_result"
    }
   ],
   "source": [
    "final_df.shape"
   ]
  },
  {
   "cell_type": "code",
   "execution_count": 66,
   "metadata": {},
   "outputs": [
    {
     "data": {
      "text/plain": [
       "(13832, 28)"
      ]
     },
     "execution_count": 66,
     "metadata": {},
     "output_type": "execute_result"
    }
   ],
   "source": [
    "X_train.shape"
   ]
  },
  {
   "cell_type": "code",
   "execution_count": 67,
   "metadata": {},
   "outputs": [
    {
     "data": {
      "text/plain": [
       "['bedrooms',\n",
       " 'bathrooms',\n",
       " 'sqft_living',\n",
       " 'sqft_lot',\n",
       " 'floors',\n",
       " 'waterfront',\n",
       " 'view',\n",
       " 'condition',\n",
       " 'grade',\n",
       " 'sqft_above',\n",
       " 'sqft_basement',\n",
       " 'yr_built',\n",
       " 'yr_renovated',\n",
       " 'zipcode',\n",
       " 'lat',\n",
       " 'sqft_living15',\n",
       " 'sqft_lot15',\n",
       " 'years_since_update',\n",
       " 'basement',\n",
       " 'q2',\n",
       " 'top_school_distance',\n",
       " 'far_school']"
      ]
     },
     "execution_count": 67,
     "metadata": {},
     "output_type": "execute_result"
    }
   ],
   "source": [
    "list(selected_columns)"
   ]
  },
  {
   "cell_type": "code",
   "execution_count": 68,
   "metadata": {},
   "outputs": [],
   "source": [
    "selected_columns = X_train.columns[selector.get_support()]\n",
    "removed_columns = X_train.columns[~selector.get_support()]"
   ]
  },
  {
   "cell_type": "code",
   "execution_count": 69,
   "metadata": {},
   "outputs": [],
   "source": [
    "#instantiate a linear regression object\n",
    "model_final = LinearRegression()\n",
    "\n",
    "#fit the linear regression to the data\n",
    "model_final = model_final.fit(final_df[selected_columns], target)"
   ]
  },
  {
   "cell_type": "code",
   "execution_count": 70,
   "metadata": {},
   "outputs": [
    {
     "data": {
      "text/plain": [
       "LinearRegression(copy_X=True, fit_intercept=True, n_jobs=None, normalize=False)"
      ]
     },
     "execution_count": 70,
     "metadata": {},
     "output_type": "execute_result"
    }
   ],
   "source": [
    "model_final"
   ]
  },
  {
   "cell_type": "code",
   "execution_count": 71,
   "metadata": {},
   "outputs": [],
   "source": [
    "coef = []\n",
    "for x in model_final.coef_:\n",
    "    for item in x:\n",
    "        coef.append(item)"
   ]
  },
  {
   "cell_type": "code",
   "execution_count": 72,
   "metadata": {},
   "outputs": [
    {
     "data": {
      "text/plain": [
       "[('bedrooms', -35945.23941946347),\n",
       " ('bathrooms', 32806.69317534346),\n",
       " ('sqft_living', 85321.54016523616),\n",
       " ('sqft_lot', 4244.956482057236),\n",
       " ('floors', 2872.1637124830413),\n",
       " ('waterfront', 53215.4188443629),\n",
       " ('view', 42678.39903036148),\n",
       " ('condition', 16968.266824510538),\n",
       " ('grade', 112490.97441769173),\n",
       " ('sqft_above', 77565.14631131987),\n",
       " ('sqft_basement', 31987.519903405995),\n",
       " ('yr_built', -94571.20257034304),\n",
       " ('yr_renovated', 7150.100242874368),\n",
       " ('zipcode', -22450.522315316957),\n",
       " ('lat', 32220.704440098954),\n",
       " ('sqft_living15', 5757.534949410362),\n",
       " ('sqft_lot15', -8644.410699471777),\n",
       " ('years_since_update', -7150.100242874386),\n",
       " ('basement', -3502.772854429839),\n",
       " ('q2', 5518.723185488706),\n",
       " ('top_school_distance', -49809.4271199127),\n",
       " ('far_school', -16367.65980764616)]"
      ]
     },
     "execution_count": 72,
     "metadata": {},
     "output_type": "execute_result"
    }
   ],
   "source": [
    "list(zip(selected_columns, coef))"
   ]
  },
  {
   "cell_type": "markdown",
   "metadata": {},
   "source": [
    "#### Interpretations:\n",
    "Above is a list of of tuples listed the feature and its coefficient. <br>\n",
    "- For every one unit increase in floors, price is expected to increase by 2872.16. The more floors a house has the more higher the sale price will be. \n",
    "- For every one unit increase in years_since_update, price is expected to decrease by 7150.10. For every year older a house gets since it was last rennovated (and if never rennovated, since it was last built), the value of the house is going to drop\n",
    "- For every one unit increase in top_school_distance, price is expected to decrease by 49809.43. The further away a house is from a school that is in the top percentile in the county, the price is going to decrease. Being close to a good school is a good incentive to buy a house."
   ]
  },
  {
   "cell_type": "markdown",
   "metadata": {},
   "source": [
    "<br>"
   ]
  },
  {
   "cell_type": "markdown",
   "metadata": {},
   "source": [
    "## Saving final model and scaler to pickle files"
   ]
  },
  {
   "cell_type": "code",
   "execution_count": 73,
   "metadata": {},
   "outputs": [],
   "source": [
    "import joblib"
   ]
  },
  {
   "cell_type": "code",
   "execution_count": 74,
   "metadata": {},
   "outputs": [
    {
     "data": {
      "text/plain": [
       "['model1.pkl']"
      ]
     },
     "execution_count": 74,
     "metadata": {},
     "output_type": "execute_result"
    }
   ],
   "source": [
    "joblib_file = \"model1.pkl\"  \n",
    "joblib.dump(model_final, joblib_file)"
   ]
  },
  {
   "cell_type": "code",
   "execution_count": 75,
   "metadata": {},
   "outputs": [
    {
     "data": {
      "text/plain": [
       "['scaler1.pkl']"
      ]
     },
     "execution_count": 75,
     "metadata": {},
     "output_type": "execute_result"
    }
   ],
   "source": [
    "joblib_file = \"scaler1.pkl\"  \n",
    "joblib.dump(scaler1, joblib_file)"
   ]
  }
 ],
 "metadata": {
  "kernelspec": {
   "display_name": "Python 3",
   "language": "python",
   "name": "python3"
  },
  "language_info": {
   "codemirror_mode": {
    "name": "ipython",
    "version": 3
   },
   "file_extension": ".py",
   "mimetype": "text/x-python",
   "name": "python",
   "nbconvert_exporter": "python",
   "pygments_lexer": "ipython3",
   "version": "3.6.9"
  }
 },
 "nbformat": 4,
 "nbformat_minor": 4
}
