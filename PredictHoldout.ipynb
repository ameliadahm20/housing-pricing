{
 "cells": [
  {
   "cell_type": "markdown",
   "metadata": {},
   "source": [
    "# Predicting on the Holdout Dataset"
   ]
  },
  {
   "cell_type": "markdown",
   "metadata": {},
   "source": [
    "## Import packages"
   ]
  },
  {
   "cell_type": "code",
   "execution_count": 1,
   "metadata": {},
   "outputs": [],
   "source": [
    "import pandas as pd\n",
    "import pickle\n",
    "import numpy as np\n",
    "import joblib\n",
    "import scraper1\n",
    "from geopy.distance import geodesic"
   ]
  },
  {
   "cell_type": "markdown",
   "metadata": {},
   "source": [
    "## Read in the holdout dataset"
   ]
  },
  {
   "cell_type": "code",
   "execution_count": 2,
   "metadata": {},
   "outputs": [],
   "source": [
    "holdout = pd.read_csv('kc_house_data_test_features.csv', index_col=0)\n",
    "holdout = holdout.drop(columns=['id'])"
   ]
  },
  {
   "cell_type": "code",
   "execution_count": 3,
   "metadata": {},
   "outputs": [
    {
     "data": {
      "text/html": [
       "<div>\n",
       "<style scoped>\n",
       "    .dataframe tbody tr th:only-of-type {\n",
       "        vertical-align: middle;\n",
       "    }\n",
       "\n",
       "    .dataframe tbody tr th {\n",
       "        vertical-align: top;\n",
       "    }\n",
       "\n",
       "    .dataframe thead th {\n",
       "        text-align: right;\n",
       "    }\n",
       "</style>\n",
       "<table border=\"1\" class=\"dataframe\">\n",
       "  <thead>\n",
       "    <tr style=\"text-align: right;\">\n",
       "      <th></th>\n",
       "      <th>date</th>\n",
       "      <th>bedrooms</th>\n",
       "      <th>bathrooms</th>\n",
       "      <th>sqft_living</th>\n",
       "      <th>sqft_lot</th>\n",
       "      <th>floors</th>\n",
       "      <th>waterfront</th>\n",
       "      <th>view</th>\n",
       "      <th>condition</th>\n",
       "      <th>grade</th>\n",
       "      <th>sqft_above</th>\n",
       "      <th>sqft_basement</th>\n",
       "      <th>yr_built</th>\n",
       "      <th>yr_renovated</th>\n",
       "      <th>zipcode</th>\n",
       "      <th>lat</th>\n",
       "      <th>long</th>\n",
       "      <th>sqft_living15</th>\n",
       "      <th>sqft_lot15</th>\n",
       "    </tr>\n",
       "  </thead>\n",
       "  <tbody>\n",
       "    <tr>\n",
       "      <th>0</th>\n",
       "      <td>20140827T000000</td>\n",
       "      <td>4</td>\n",
       "      <td>2.50</td>\n",
       "      <td>2270</td>\n",
       "      <td>11500</td>\n",
       "      <td>1.0</td>\n",
       "      <td>0</td>\n",
       "      <td>0</td>\n",
       "      <td>3</td>\n",
       "      <td>8</td>\n",
       "      <td>1540</td>\n",
       "      <td>730</td>\n",
       "      <td>1967</td>\n",
       "      <td>0</td>\n",
       "      <td>98034</td>\n",
       "      <td>47.7089</td>\n",
       "      <td>-122.241</td>\n",
       "      <td>2020</td>\n",
       "      <td>10918</td>\n",
       "    </tr>\n",
       "    <tr>\n",
       "      <th>1</th>\n",
       "      <td>20150218T000000</td>\n",
       "      <td>4</td>\n",
       "      <td>2.50</td>\n",
       "      <td>2270</td>\n",
       "      <td>11500</td>\n",
       "      <td>1.0</td>\n",
       "      <td>0</td>\n",
       "      <td>0</td>\n",
       "      <td>3</td>\n",
       "      <td>8</td>\n",
       "      <td>1540</td>\n",
       "      <td>730</td>\n",
       "      <td>1967</td>\n",
       "      <td>0</td>\n",
       "      <td>98034</td>\n",
       "      <td>47.7089</td>\n",
       "      <td>-122.241</td>\n",
       "      <td>2020</td>\n",
       "      <td>10918</td>\n",
       "    </tr>\n",
       "    <tr>\n",
       "      <th>2</th>\n",
       "      <td>20141107T000000</td>\n",
       "      <td>3</td>\n",
       "      <td>2.50</td>\n",
       "      <td>1470</td>\n",
       "      <td>1779</td>\n",
       "      <td>2.0</td>\n",
       "      <td>0</td>\n",
       "      <td>0</td>\n",
       "      <td>3</td>\n",
       "      <td>8</td>\n",
       "      <td>1160</td>\n",
       "      <td>310</td>\n",
       "      <td>2005</td>\n",
       "      <td>0</td>\n",
       "      <td>98029</td>\n",
       "      <td>47.5472</td>\n",
       "      <td>-121.998</td>\n",
       "      <td>1470</td>\n",
       "      <td>1576</td>\n",
       "    </tr>\n",
       "    <tr>\n",
       "      <th>3</th>\n",
       "      <td>20141203T000000</td>\n",
       "      <td>3</td>\n",
       "      <td>1.75</td>\n",
       "      <td>1280</td>\n",
       "      <td>16200</td>\n",
       "      <td>1.0</td>\n",
       "      <td>0</td>\n",
       "      <td>0</td>\n",
       "      <td>3</td>\n",
       "      <td>8</td>\n",
       "      <td>1030</td>\n",
       "      <td>250</td>\n",
       "      <td>1976</td>\n",
       "      <td>0</td>\n",
       "      <td>98077</td>\n",
       "      <td>47.7427</td>\n",
       "      <td>-122.071</td>\n",
       "      <td>1160</td>\n",
       "      <td>10565</td>\n",
       "    </tr>\n",
       "    <tr>\n",
       "      <th>4</th>\n",
       "      <td>20150115T000000</td>\n",
       "      <td>4</td>\n",
       "      <td>2.75</td>\n",
       "      <td>2830</td>\n",
       "      <td>8126</td>\n",
       "      <td>2.0</td>\n",
       "      <td>0</td>\n",
       "      <td>0</td>\n",
       "      <td>3</td>\n",
       "      <td>8</td>\n",
       "      <td>2830</td>\n",
       "      <td>0</td>\n",
       "      <td>2005</td>\n",
       "      <td>0</td>\n",
       "      <td>98059</td>\n",
       "      <td>47.4863</td>\n",
       "      <td>-122.140</td>\n",
       "      <td>2830</td>\n",
       "      <td>7916</td>\n",
       "    </tr>\n",
       "  </tbody>\n",
       "</table>\n",
       "</div>"
      ],
      "text/plain": [
       "              date  bedrooms  bathrooms  sqft_living  sqft_lot  floors  \\\n",
       "0  20140827T000000         4       2.50         2270     11500     1.0   \n",
       "1  20150218T000000         4       2.50         2270     11500     1.0   \n",
       "2  20141107T000000         3       2.50         1470      1779     2.0   \n",
       "3  20141203T000000         3       1.75         1280     16200     1.0   \n",
       "4  20150115T000000         4       2.75         2830      8126     2.0   \n",
       "\n",
       "   waterfront  view  condition  grade  sqft_above  sqft_basement  yr_built  \\\n",
       "0           0     0          3      8        1540            730      1967   \n",
       "1           0     0          3      8        1540            730      1967   \n",
       "2           0     0          3      8        1160            310      2005   \n",
       "3           0     0          3      8        1030            250      1976   \n",
       "4           0     0          3      8        2830              0      2005   \n",
       "\n",
       "   yr_renovated  zipcode      lat     long  sqft_living15  sqft_lot15  \n",
       "0             0    98034  47.7089 -122.241           2020       10918  \n",
       "1             0    98034  47.7089 -122.241           2020       10918  \n",
       "2             0    98029  47.5472 -121.998           1470        1576  \n",
       "3             0    98077  47.7427 -122.071           1160       10565  \n",
       "4             0    98059  47.4863 -122.140           2830        7916  "
      ]
     },
     "execution_count": 3,
     "metadata": {},
     "output_type": "execute_result"
    }
   ],
   "source": [
    "holdout.head()"
   ]
  },
  {
   "cell_type": "markdown",
   "metadata": {},
   "source": [
    "## Modifying and creating new features"
   ]
  },
  {
   "cell_type": "code",
   "execution_count": 4,
   "metadata": {},
   "outputs": [],
   "source": [
    "holdout['date'] = holdout['date'].str.slice(0, 8, 1)\n",
    "holdout['year_sold'] = holdout['date'].str.slice(0, 4, 1)\n",
    "holdout['month_sold'] = holdout['date'].str.slice(4, 6, 1)\n",
    "holdout['day_sold'] = holdout['date'].str.slice(6, 8, 1)"
   ]
  },
  {
   "cell_type": "code",
   "execution_count": 5,
   "metadata": {},
   "outputs": [],
   "source": [
    "holdout['year_sold'] = holdout['year_sold'].astype('int64')\n",
    "holdout['month_sold'] = holdout['month_sold'].astype('int64')\n",
    "holdout['day_sold'] = holdout['day_sold'].astype('int64')\n",
    "holdout = holdout.drop(columns='date')"
   ]
  },
  {
   "cell_type": "code",
   "execution_count": 6,
   "metadata": {},
   "outputs": [],
   "source": [
    "holdout['yr_renovated'] = holdout['yr_renovated'].replace(0, holdout['yr_built'])"
   ]
  },
  {
   "cell_type": "code",
   "execution_count": 7,
   "metadata": {},
   "outputs": [],
   "source": [
    "holdout['years_since_update'] = (2020 - holdout['yr_renovated'])"
   ]
  },
  {
   "cell_type": "code",
   "execution_count": 8,
   "metadata": {},
   "outputs": [],
   "source": [
    "holdout['basement'] = np.where(holdout['sqft_basement']==0, 0, 1)"
   ]
  },
  {
   "cell_type": "code",
   "execution_count": 9,
   "metadata": {},
   "outputs": [],
   "source": [
    "holdout['bedrooms'] = holdout['bedrooms'].replace(0, holdout['bedrooms'].median())"
   ]
  },
  {
   "cell_type": "code",
   "execution_count": 10,
   "metadata": {},
   "outputs": [],
   "source": [
    "holdout['q1'] = np.where((holdout['month_sold']==1) | (holdout['month_sold']==2) | (holdout['month_sold']==3), 1, 0)"
   ]
  },
  {
   "cell_type": "code",
   "execution_count": 11,
   "metadata": {},
   "outputs": [],
   "source": [
    "holdout['q2'] = np.where((holdout['month_sold']==4) | (holdout['month_sold']==5) | (holdout['month_sold']==6), 1, 0)"
   ]
  },
  {
   "cell_type": "code",
   "execution_count": 12,
   "metadata": {},
   "outputs": [],
   "source": [
    "holdout['q3'] = np.where((holdout['month_sold']==7) | (holdout['month_sold']==8) | (holdout['month_sold']==9), 1, 0)"
   ]
  },
  {
   "cell_type": "code",
   "execution_count": 13,
   "metadata": {},
   "outputs": [],
   "source": [
    "school_coordinates = scraper1.top_schools()\n"
   ]
  },
  {
   "cell_type": "code",
   "execution_count": 14,
   "metadata": {},
   "outputs": [],
   "source": [
    "def get_distance(lat, long):\n",
    "    miles = []\n",
    "    for i in range(school_coordinates.shape[0]):\n",
    "        school = (school_coordinates.loc[i]['lat'], school_coordinates.loc[i]['long'])\n",
    "        miles.append(geodesic((lat,long), school).miles)\n",
    "    return min(miles)"
   ]
  },
  {
   "cell_type": "code",
   "execution_count": 15,
   "metadata": {},
   "outputs": [],
   "source": [
    "for i in range(holdout.shape[0]):\n",
    "    lat = holdout.loc[i]['lat']\n",
    "    long = holdout.loc[i]['long']\n",
    "    holdout.at[i, 'top_school_distance'] = get_distance(lat, long)"
   ]
  },
  {
   "cell_type": "code",
   "execution_count": 16,
   "metadata": {},
   "outputs": [],
   "source": [
    "holdout['far_school'] = np.where(holdout['top_school_distance'] > holdout['top_school_distance'].quantile(q=.75), 1, 0)"
   ]
  },
  {
   "cell_type": "code",
   "execution_count": 17,
   "metadata": {},
   "outputs": [],
   "source": [
    "selected_columns = ['bedrooms','bathrooms','sqft_living','sqft_lot','floors','waterfront','view','condition','grade','sqft_above','sqft_basement','yr_built','yr_renovated','zipcode','lat','sqft_living15','sqft_lot15','years_since_update','basement','q2','top_school_distance','far_school']"
   ]
  },
  {
   "cell_type": "code",
   "execution_count": 18,
   "metadata": {},
   "outputs": [],
   "source": [
    "holdout = holdout[selected_columns]"
   ]
  },
  {
   "cell_type": "markdown",
   "metadata": {},
   "source": [
    "## Loading Scaler and Model Pickle Files"
   ]
  },
  {
   "cell_type": "code",
   "execution_count": 19,
   "metadata": {},
   "outputs": [],
   "source": [
    "# model_scaler = joblib.load('scaler1.pkl') "
   ]
  },
  {
   "cell_type": "code",
   "execution_count": 20,
   "metadata": {},
   "outputs": [],
   "source": [
    "# model_scaler"
   ]
  },
  {
   "cell_type": "code",
   "execution_count": 21,
   "metadata": {},
   "outputs": [],
   "source": [
    "# holdout.shape"
   ]
  },
  {
   "cell_type": "markdown",
   "metadata": {},
   "source": [
    "## Step 3: Predict the holdout set"
   ]
  },
  {
   "cell_type": "code",
   "execution_count": 22,
   "metadata": {},
   "outputs": [],
   "source": [
    "joblib_file = \"model1.pkl\"  \n",
    "final_model = joblib.load(joblib_file)\n",
    "output = final_model.predict(holdout)"
   ]
  },
  {
   "cell_type": "markdown",
   "metadata": {},
   "source": [
    "## Exporting predictions"
   ]
  },
  {
   "cell_type": "code",
   "execution_count": 24,
   "metadata": {},
   "outputs": [],
   "source": [
    "np.savetxt(\"housing_preds_amelia_dahm.csv\", output, delimiter=\",\")"
   ]
  },
  {
   "cell_type": "code",
   "execution_count": null,
   "metadata": {},
   "outputs": [],
   "source": []
  }
 ],
 "metadata": {
  "kernelspec": {
   "display_name": "Python 3",
   "language": "python",
   "name": "python3"
  },
  "language_info": {
   "codemirror_mode": {
    "name": "ipython",
    "version": 3
   },
   "file_extension": ".py",
   "mimetype": "text/x-python",
   "name": "python",
   "nbconvert_exporter": "python",
   "pygments_lexer": "ipython3",
   "version": "3.6.9"
  }
 },
 "nbformat": 4,
 "nbformat_minor": 4
}
